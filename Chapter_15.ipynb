{
 "cells": [
  {
   "cell_type": "markdown",
   "metadata": {},
   "source": [
    "# 오토 인코더\n",
    "- 오토인코더는 어떤 감독 없이도 입력 데이터의 효율적인 표현인 코딩을 학습할 수 있는 인공 신경망\n",
    "    - 코딩은 어떤 제약 조건 하에서 항등 함수를 학습하려는 오토인코더의 노력으로 생겨난 부산물\n",
    "- 코딩은 일반적으로 입력보다 훨씬 낮은 차원을 가지므로 오토인코더가 차원 축소에 유용하게 사용됨\n",
    "- 더 중요한 점은 강력한 특성 추출기처럼 작동하여 심층 신경망의 비지도 사전훈련에 사용될 수 있음\n",
    "- 또한, 훈련 데이터와 매우 비슷한 새로운 데이터를 생성할 수 있음(이를 생성 모델이라고 함)"
   ]
  },
  {
   "cell_type": "code",
   "execution_count": 1,
   "metadata": {},
   "outputs": [],
   "source": [
    "# 공통\n",
    "import numpy as np\n",
    "import os\n",
    "import sys\n",
    "\n",
    "# 일관된 출력을 위해 유사난수 초기화\n",
    "def reset_graph(seed=42):\n",
    "    tf.reset_default_graph()\n",
    "    tf.set_random_seed(seed)\n",
    "    np.random.seed(seed)\n",
    "\n",
    "# 맷플롯립 설정\n",
    "%matplotlib inline\n",
    "import matplotlib\n",
    "import matplotlib.pyplot as plt\n",
    "plt.rcParams['axes.labelsize'] = 14\n",
    "plt.rcParams['xtick.labelsize'] = 12\n",
    "plt.rcParams['ytick.labelsize'] = 12"
   ]
  },
  {
   "cell_type": "code",
   "execution_count": 2,
   "metadata": {},
   "outputs": [],
   "source": [
    "# 28*28 흑백 이미지를 그리기 위한 유틸리티 함수\n",
    "def plot_image(image, shape=[28, 28]):\n",
    "    plt.imshow(image.reshape(shape), cmap=\"Greys\", interpolation=\"nearest\")\n",
    "    plt.axis(\"off\")\n",
    "\n",
    "# 여러 이미지를 그리기 위한 함수\n",
    "def plot_multiple_images(images, n_rows, n_cols, pad=2):\n",
    "    images = images - images.min()  # 최소값을 0으로 만들어 패딩이 하얗게 보이도록 합니다.\n",
    "    w,h = images.shape[1:]\n",
    "    image = np.zeros(((w+pad)*n_rows+pad, (h+pad)*n_cols+pad))\n",
    "    for y in range(n_rows):\n",
    "        for x in range(n_cols):\n",
    "            image[(y*(h+pad)+pad):(y*(h+pad)+pad+h),(x*(w+pad)+pad):(x*(w+pad)+pad+w)] = images[y*n_cols+x]\n",
    "    plt.imshow(image, cmap=\"Greys\", interpolation=\"nearest\")\n",
    "    plt.axis(\"off\")"
   ]
  },
  {
   "cell_type": "markdown",
   "metadata": {},
   "source": [
    "## 15.1 효율적인 데이터 표현\n",
    "- 오토인코더는 입력을 내부 표현으로 바꾸는 인코더(또는 인지네트워크)와 내부 표현을 출력으로 바꾸는 디코더(또는 생성 네트워크)로 구성됨\n",
    "- 오토인코더가 입력을 재구성하므로 출력을 종종 재구성이라 부르고 비용 함수는 재구성과 입력이 다를 때 모델에 벌점을 부과하는 재구성 손실을 포함함\n",
    "- 내부 표현이 입력 데이터보다 저차원이기 때문에 오토인코더를 과소완전이라고 함"
   ]
  },
  {
   "cell_type": "markdown",
   "metadata": {},
   "source": [
    "## 15.2 과소완전 선형 오토인코더로 PCA 수행하기\n",
    "- 오토인코더가 선형 활성화 함수만 사용하고 비용 함수가 평균 제곱 오차(MSE)라면, 이는 결국 주성분 분석(PCA)을 수행하는 것으로 볼 수 있음"
   ]
  },
  {
   "cell_type": "code",
   "execution_count": 3,
   "metadata": {},
   "outputs": [],
   "source": [
    "# 3D 데이터셋 생성\n",
    "import numpy.random as rnd\n",
    "\n",
    "rnd.seed(4)\n",
    "m = 200\n",
    "w1, w2 = 0.1, 0.3\n",
    "noise = 0.1\n",
    "\n",
    "angles = rnd.rand(m) * 3 * np.pi / 2 - 0.5\n",
    "data = np.empty((m, 3))\n",
    "data[:, 0] = np.cos(angles) + np.sin(angles)/2 + noise * rnd.randn(m) / 2\n",
    "data[:, 1] = np.sin(angles) * 0.7 + noise * rnd.randn(m) / 2\n",
    "data[:, 2] = data[:, 0] * w1 + data[:, 1] * w2 + noise * rnd.randn(m)"
   ]
  },
  {
   "cell_type": "code",
   "execution_count": 4,
   "metadata": {},
   "outputs": [],
   "source": [
    "# 3D 데이터셋 정규화\n",
    "from sklearn.preprocessing import StandardScaler\n",
    "scaler = StandardScaler()\n",
    "X_train = scaler.fit_transform(data[:100])\n",
    "X_test = scaler.transform(data[100:])"
   ]
  },
  {
   "cell_type": "code",
   "execution_count": 5,
   "metadata": {},
   "outputs": [
    {
     "name": "stderr",
     "output_type": "stream",
     "text": [
      "C:\\Users\\Yoo\\Anaconda3\\lib\\site-packages\\tensorflow\\python\\framework\\dtypes.py:526: FutureWarning: Passing (type, 1) or '1type' as a synonym of type is deprecated; in a future version of numpy, it will be understood as (type, (1,)) / '(1,)type'.\n",
      "  _np_qint8 = np.dtype([(\"qint8\", np.int8, 1)])\n",
      "C:\\Users\\Yoo\\Anaconda3\\lib\\site-packages\\tensorflow\\python\\framework\\dtypes.py:527: FutureWarning: Passing (type, 1) or '1type' as a synonym of type is deprecated; in a future version of numpy, it will be understood as (type, (1,)) / '(1,)type'.\n",
      "  _np_quint8 = np.dtype([(\"quint8\", np.uint8, 1)])\n",
      "C:\\Users\\Yoo\\Anaconda3\\lib\\site-packages\\tensorflow\\python\\framework\\dtypes.py:528: FutureWarning: Passing (type, 1) or '1type' as a synonym of type is deprecated; in a future version of numpy, it will be understood as (type, (1,)) / '(1,)type'.\n",
      "  _np_qint16 = np.dtype([(\"qint16\", np.int16, 1)])\n",
      "C:\\Users\\Yoo\\Anaconda3\\lib\\site-packages\\tensorflow\\python\\framework\\dtypes.py:529: FutureWarning: Passing (type, 1) or '1type' as a synonym of type is deprecated; in a future version of numpy, it will be understood as (type, (1,)) / '(1,)type'.\n",
      "  _np_quint16 = np.dtype([(\"quint16\", np.uint16, 1)])\n",
      "C:\\Users\\Yoo\\Anaconda3\\lib\\site-packages\\tensorflow\\python\\framework\\dtypes.py:530: FutureWarning: Passing (type, 1) or '1type' as a synonym of type is deprecated; in a future version of numpy, it will be understood as (type, (1,)) / '(1,)type'.\n",
      "  _np_qint32 = np.dtype([(\"qint32\", np.int32, 1)])\n",
      "C:\\Users\\Yoo\\Anaconda3\\lib\\site-packages\\tensorflow\\python\\framework\\dtypes.py:535: FutureWarning: Passing (type, 1) or '1type' as a synonym of type is deprecated; in a future version of numpy, it will be understood as (type, (1,)) / '(1,)type'.\n",
      "  np_resource = np.dtype([(\"resource\", np.ubyte, 1)])\n"
     ]
    },
    {
     "name": "stdout",
     "output_type": "stream",
     "text": [
      "WARNING:tensorflow:From <ipython-input-5-db56e4e7dcb1>:14: dense (from tensorflow.python.layers.core) is deprecated and will be removed in a future version.\n",
      "Instructions for updating:\n",
      "Use keras.layers.dense instead.\n",
      "WARNING:tensorflow:From C:\\Users\\Yoo\\Anaconda3\\lib\\site-packages\\tensorflow\\python\\framework\\op_def_library.py:263: colocate_with (from tensorflow.python.framework.ops) is deprecated and will be removed in a future version.\n",
      "Instructions for updating:\n",
      "Colocations handled automatically by placer.\n"
     ]
    }
   ],
   "source": [
    "# 오토인코더 생성\n",
    "import tensorflow as tf\n",
    "\n",
    "reset_graph()\n",
    "\n",
    "n_inputs = 3\n",
    "n_hidden = 2  # 코딩 유닛\n",
    "n_outputs = n_inputs # 출력 개수와 입력 개수가 동일\n",
    "\n",
    "learning_rate = 0.01\n",
    "\n",
    "# 단순한 PCA 수행을 위해 활성화 함수를 사용하지 않음(즉, 모든 뉴런이 선형)\n",
    "X = tf.placeholder(tf.float32, shape=[None, n_inputs])\n",
    "hidden = tf.layers.dense(X, n_hidden)\n",
    "outputs = tf.layers.dense(hidden, n_outputs)\n",
    "\n",
    "reconstruction_loss = tf.reduce_mean(tf.square(outputs - X)) # 비용함수는 MSE\n",
    "\n",
    "optimizer = tf.train.AdamOptimizer(learning_rate) # Adam 옵티마이저 사용\n",
    "training_op = optimizer.minimize(reconstruction_loss)\n",
    "\n",
    "init = tf.global_variables_initializer()"
   ]
  },
  {
   "cell_type": "code",
   "execution_count": 6,
   "metadata": {},
   "outputs": [],
   "source": [
    "n_iterations = 1000\n",
    "codings = hidden # 코딩을 만드는 은닉층을 출력\n",
    "\n",
    "with tf.Session() as sess:\n",
    "    init.run()\n",
    "    for iteration in range(n_iterations):\n",
    "        training_op.run(feed_dict={X: X_train}) # 레이블이 없음 -> 비지도 학습\n",
    "    codings_val = codings.eval(feed_dict={X: X_test})"
   ]
  },
  {
   "cell_type": "code",
   "execution_count": 7,
   "metadata": {},
   "outputs": [
    {
     "data": {
      "image/png": "[encoded data removed]",
      "text/plain": [
       "<Figure size 288x216 with 1 Axes>"
      ]
     },
     "metadata": {
      "needs_background": "light"
     },
     "output_type": "display_data"
    }
   ],
   "source": [
    "fig = plt.figure(figsize=(4,3))\n",
    "plt.plot(codings_val[:,0], codings_val[:, 1], \"b.\")\n",
    "plt.xlabel(\"$z_1$\", fontsize=18)\n",
    "plt.ylabel(\"$z_2$\", fontsize=18, rotation=0)\n",
    "plt.show() # 오토인코더는 데이터에 있는 분산이 가능한 많이 보존되도록 투영할 최상의 2D 평면을 찾음(PCA와 동일)"
   ]
  },
  {
   "cell_type": "markdown",
   "metadata": {},
   "source": [
    "## 15.3 적층 오토인코더\n",
    "- 오토인코더도 여러 개의 은닉층을 가질 수 있는데 이를 적층 오토인코더(또는 심층 오토인코더)라고 함\n",
    "- 층을 추가하면 더 복잡한 코딩을 학습할 수 있지만, 오토인코더가 너무 강력하게 되지 않도록 주의해야 함\n",
    "    - 너무 강력한 오토인코더는 훈련 데이터를 완벽하게 재구성하겠지만 이 과정에서 유용한 데이터 표현을 학습하지 못할 것(또한, 일반화 힘듬)\n",
    "- 적층 오토인코더의 구조는 전혁적으로 가운데 은닉층(코딩층)을 기준으로 대칭(책 p.526)"
   ]
  },
  {
   "cell_type": "code",
   "execution_count": 8,
   "metadata": {},
   "outputs": [],
   "source": [
    "# MNIST 데이터 로드\n",
    "(X_train, y_train), (X_test, y_test) = tf.keras.datasets.mnist.load_data()\n",
    "X_train = X_train.astype(np.float32).reshape(-1, 28*28) / 255.0\n",
    "X_test = X_test.astype(np.float32).reshape(-1, 28*28) / 255.0\n",
    "y_train = y_train.astype(np.int32)\n",
    "y_test = y_test.astype(np.int32)\n",
    "X_valid, X_train = X_train[:5000], X_train[5000:]\n",
    "y_valid, y_train = y_train[:5000], y_train[5000:]"
   ]
  },
  {
   "cell_type": "code",
   "execution_count": 9,
   "metadata": {},
   "outputs": [],
   "source": [
    "# 셔플 함수\n",
    "def shuffle_batch(X, y, batch_size):\n",
    "    rnd_idx = np.random.permutation(len(X))\n",
    "    n_batches = len(X) // batch_size\n",
    "    for batch_idx in np.array_split(rnd_idx, n_batches):\n",
    "        X_batch, y_batch = X[batch_idx], y[batch_idx]\n",
    "        yield X_batch, y_batch"
   ]
  },
  {
   "cell_type": "markdown",
   "metadata": {},
   "source": [
    "#### 15.3.1 텐서플로 구현\n",
    "- 3개의 은닉층과 1개의 출력층(즉, 두 개를 적층)을 가진 적층 오토인코더 생성(ELU 활성화 함수와 He 초기화, L2 정규화)"
   ]
  },
  {
   "cell_type": "code",
   "execution_count": 10,
   "metadata": {},
   "outputs": [
    {
     "name": "stdout",
     "output_type": "stream",
     "text": [
      "\n",
      "WARNING: The TensorFlow contrib module will not be included in TensorFlow 2.0.\n",
      "For more information, please see:\n",
      "  * https://github.com/tensorflow/community/blob/master/rfcs/20180907-contrib-sunset.md\n",
      "  * https://github.com/tensorflow/addons\n",
      "If you depend on functionality not listed there, please file an issue.\n",
      "\n"
     ]
    }
   ],
   "source": [
    "reset_graph()\n",
    "\n",
    "from functools import partial\n",
    "\n",
    "n_inputs = 28 * 28\n",
    "n_hidden1 = 300\n",
    "n_hidden2 = 150  # 코딩 유닛\n",
    "n_hidden3 = n_hidden1 # 가운데 은닉층을 구조로 대칭\n",
    "n_outputs = n_inputs # 가운데 은닉층을 구조로 대칭\n",
    "\n",
    "learning_rate = 0.01\n",
    "l2_reg = 0.0001\n",
    "\n",
    "X = tf.placeholder(tf.float32, shape=[None, n_inputs])\n",
    "\n",
    "he_init = tf.variance_scaling_initializer() # He 초기화\n",
    "#아래와 동일합니다:\n",
    "#he_init = lambda shape, dtype=tf.float32: tf.truncated_normal(shape, 0., stddev=np.sqrt(2/shape[0]))\n",
    "l2_regularizer = tf.contrib.layers.l2_regularizer(l2_reg)\n",
    "my_dense_layer = partial(tf.layers.dense, activation=tf.nn.elu, kernel_initializer=he_init, kernel_regularizer=l2_regularizer)\n",
    "\n",
    "hidden1 = my_dense_layer(X, n_hidden1)\n",
    "hidden2 = my_dense_layer(hidden1, n_hidden2)\n",
    "hidden3 = my_dense_layer(hidden2, n_hidden3)\n",
    "outputs = my_dense_layer(hidden3, n_outputs, activation=None) # 활성화 함수 없음\n",
    "\n",
    "reconstruction_loss = tf.reduce_mean(tf.square(outputs - X)) # MSE\n",
    "\n",
    "reg_losses = tf.get_collection(tf.GraphKeys.REGULARIZATION_LOSSES)\n",
    "loss = tf.add_n([reconstruction_loss] + reg_losses)\n",
    "\n",
    "optimizer = tf.train.AdamOptimizer(learning_rate) # Adam 옵티마이저\n",
    "training_op = optimizer.minimize(loss)\n",
    "\n",
    "init = tf.global_variables_initializer()\n",
    "saver = tf.train.Saver()"
   ]
  },
  {
   "cell_type": "code",
   "execution_count": 11,
   "metadata": {},
   "outputs": [
    {
     "name": "stdout",
     "output_type": "stream",
     "text": [
      "09% 훈련 MSE: 0.021005029\n",
      "19% 훈련 MSE: 0.011436817\n",
      "29% 훈련 MSE: 0.011802275\n",
      "39% 훈련 MSE: 0.011764231\n",
      "49% 훈련 MSE: 0.01169861\n"
     ]
    }
   ],
   "source": [
    "n_epochs = 5\n",
    "batch_size = 150\n",
    "\n",
    "with tf.Session() as sess:\n",
    "    init.run()\n",
    "    for epoch in range(n_epochs):\n",
    "        n_batches = len(X_train) // batch_size\n",
    "        for iteration in range(n_batches):\n",
    "            print(\"\\r{}%\".format(100 * iteration // n_batches), end=\"\")\n",
    "            sys.stdout.flush()\n",
    "            X_batch, y_batch = next(shuffle_batch(X_train, y_train, batch_size))\n",
    "            sess.run(training_op, feed_dict={X: X_batch}) # 비지도 학습\n",
    "        loss_train = reconstruction_loss.eval(feed_dict={X: X_batch}) # 비지도 학습\n",
    "        print(\"\\r{}\".format(epoch), \"훈련 MSE:\", loss_train)\n",
    "        saver.save(sess, \"./my_model_all_layers.ckpt\")"
   ]
  },
  {
   "cell_type": "code",
   "execution_count": 12,
   "metadata": {},
   "outputs": [
    {
     "name": "stdout",
     "output_type": "stream",
     "text": [
      "WARNING:tensorflow:From C:\\Users\\Yoo\\Anaconda3\\lib\\site-packages\\tensorflow\\python\\training\\saver.py:1266: checkpoint_exists (from tensorflow.python.training.checkpoint_management) is deprecated and will be removed in a future version.\n",
      "Instructions for updating:\n",
      "Use standard file APIs to check for files with this prefix.\n",
      "INFO:tensorflow:Restoring parameters from ./my_model_all_layers.ckpt\n"
     ]
    },
    {
     "data": {
      "image/png": "[encoded data removed]",
      "text/plain": [
       "<Figure size 576x432 with 4 Axes>"
      ]
     },
     "metadata": {
      "needs_background": "light"
     },
     "output_type": "display_data"
    }
   ],
   "source": [
    "# 모델을 로드하고 테스트 세트에서 이를 평가하고 원본 이미지와 재구성 이미지를 그리는 함수\n",
    "def show_reconstructed_digits(X, outputs, model_path = None, n_test_digits = 2):\n",
    "    with tf.Session() as sess:\n",
    "        if model_path:\n",
    "            saver.restore(sess, model_path)\n",
    "        # X_test = mnist.test.images[:n_test_digits]\n",
    "        outputs_val = outputs.eval(feed_dict={X: X_test[:n_test_digits]})\n",
    "\n",
    "    fig = plt.figure(figsize=(8, 3 * n_test_digits))\n",
    "    for digit_index in range(n_test_digits):\n",
    "        plt.subplot(n_test_digits, 2, digit_index * 2 + 1)\n",
    "        plot_image(X_test[digit_index])\n",
    "        plt.subplot(n_test_digits, 2, digit_index * 2 + 2)\n",
    "        plot_image(outputs_val[digit_index])\n",
    "\n",
    "show_reconstructed_digits(X, outputs, \"./my_model_all_layers.ckpt\")"
   ]
  },
  {
   "cell_type": "markdown",
   "metadata": {},
   "source": [
    "#### 15.3.2 가중치 묶기\n",
    "- 오토인코더가 완벽한 대칭일 땐 일반적으로 디코더의 가중치와 인코더의 가중치를 묶음\n",
    "    - 이렇게 하면 모델에 있는 가중치의 수를 절반으로 줄여서 훈련 속도를 높이고 과대적합을 방지함\n",
    "    - 다만, 텐서플로에서 구현은 복잡하므로 직접 층을 정의하는 것이 더 쉬움"
   ]
  },
  {
   "cell_type": "code",
   "execution_count": 13,
   "metadata": {},
   "outputs": [],
   "source": [
    "reset_graph()\n",
    "\n",
    "n_inputs = 28 * 28\n",
    "n_hidden1 = 300\n",
    "n_hidden2 = 150  # 코딩 유닛\n",
    "n_hidden3 = n_hidden1\n",
    "n_outputs = n_inputs\n",
    "\n",
    "learning_rate = 0.01\n",
    "l2_reg = 0.0005"
   ]
  },
  {
   "cell_type": "code",
   "execution_count": 14,
   "metadata": {},
   "outputs": [],
   "source": [
    "activation = tf.nn.elu\n",
    "regularizer = tf.contrib.layers.l2_regularizer(l2_reg)\n",
    "initializer = tf.variance_scaling_initializer()\n",
    "\n",
    "X = tf.placeholder(tf.float32, shape=[None, n_inputs])\n",
    "\n",
    "weights1_init = initializer([n_inputs, n_hidden1])\n",
    "weights2_init = initializer([n_hidden1, n_hidden2])\n",
    "\n",
    "weights1 = tf.Variable(weights1_init, dtype=tf.float32, name=\"weights1\")\n",
    "weights2 = tf.Variable(weights2_init, dtype=tf.float32, name=\"weights2\")\n",
    "weights3 = tf.transpose(weights2, name=\"weights3\")  # 가중치 묶기(가중치1의 전치)\n",
    "weights4 = tf.transpose(weights1, name=\"weights4\")  # 가중치 묶기(가중치2의 전치)\n",
    "\n",
    "# 편향은 묶지도 않고 규제하지도 않음\n",
    "biases1 = tf.Variable(tf.zeros(n_hidden1), name=\"biases1\")\n",
    "biases2 = tf.Variable(tf.zeros(n_hidden2), name=\"biases2\")\n",
    "biases3 = tf.Variable(tf.zeros(n_hidden3), name=\"biases3\")\n",
    "biases4 = tf.Variable(tf.zeros(n_outputs), name=\"biases4\")\n",
    "\n",
    "hidden1 = activation(tf.matmul(X, weights1) + biases1)\n",
    "hidden2 = activation(tf.matmul(hidden1, weights2) + biases2)\n",
    "hidden3 = activation(tf.matmul(hidden2, weights3) + biases3)\n",
    "outputs = tf.matmul(hidden3, weights4) + biases4\n",
    "\n",
    "reconstruction_loss = tf.reduce_mean(tf.square(outputs - X))\n",
    "reg_loss = regularizer(weights1) + regularizer(weights2)\n",
    "loss = reconstruction_loss + reg_loss\n",
    "\n",
    "optimizer = tf.train.AdamOptimizer(learning_rate)\n",
    "training_op = optimizer.minimize(loss)\n",
    "\n",
    "init = tf.global_variables_initializer()\n",
    "saver = tf.train.Saver()"
   ]
  },
  {
   "cell_type": "code",
   "execution_count": 15,
   "metadata": {},
   "outputs": [
    {
     "name": "stdout",
     "output_type": "stream",
     "text": [
      "0 훈련 MSE: 0.017812923\n",
      "19% 훈련 MSE: 0.016506217\n",
      "29% 훈련 MSE: 0.01810514\n",
      "39% 훈련 MSE: 0.018025832\n",
      "49% 훈련 MSE: 0.017612007\n"
     ]
    }
   ],
   "source": [
    "n_epochs = 5\n",
    "batch_size = 150\n",
    "\n",
    "with tf.Session() as sess:\n",
    "    init.run()\n",
    "    for epoch in range(n_epochs):\n",
    "        n_batches = len(X_train) // batch_size\n",
    "        for iteration in range(n_batches):\n",
    "            print(\"\\r{}%\".format(100 * iteration // n_batches), end=\"\")\n",
    "            sys.stdout.flush()\n",
    "            X_batch, y_batch = next(shuffle_batch(X_train, y_train, batch_size))\n",
    "            sess.run(training_op, feed_dict={X: X_batch})\n",
    "        loss_train = reconstruction_loss.eval(feed_dict={X: X_batch})\n",
    "        print(\"\\r{}\".format(epoch), \"훈련 MSE:\", loss_train)\n",
    "        saver.save(sess, \"./my_model_tying_weights.ckpt\")"
   ]
  },
  {
   "cell_type": "code",
   "execution_count": 16,
   "metadata": {},
   "outputs": [
    {
     "name": "stdout",
     "output_type": "stream",
     "text": [
      "INFO:tensorflow:Restoring parameters from ./my_model_tying_weights.ckpt\n"
     ]
    },
    {
     "data": {
      "image/png": "[encoded data removed]",
      "text/plain": [
       "<Figure size 576x432 with 4 Axes>"
      ]
     },
     "metadata": {
      "needs_background": "light"
     },
     "output_type": "display_data"
    }
   ],
   "source": [
    "show_reconstructed_digits(X, outputs, \"./my_model_tying_weights.ckpt\")"
   ]
  },
  {
   "cell_type": "markdown",
   "metadata": {},
   "source": [
    "#### 15.2.3 한 번에 한 층씩 훈련하기\n",
    "- 한 번에 전체 오토인코더를 훈련시키는 것보다 한 번에 오토인코더 하나를 훈련하고 이를 쌓아올려 한 개의 적층 오토인코더를 만드는 것이 더 빠름"
   ]
  },
  {
   "cell_type": "markdown",
   "metadata": {},
   "source": [
    "##### 하나의 그래프에서 오토인코더를 따로따로 훈련하기"
   ]
  },
  {
   "cell_type": "code",
   "execution_count": 17,
   "metadata": {},
   "outputs": [],
   "source": [
    "reset_graph()\n",
    "\n",
    "n_inputs = 28 * 28\n",
    "n_hidden1 = 300\n",
    "n_hidden2 = 150  # 코딩 유닛\n",
    "n_hidden3 = n_hidden1\n",
    "n_outputs = n_inputs\n",
    "\n",
    "learning_rate = 0.01\n",
    "l2_reg = 0.0001\n",
    "\n",
    "activation = tf.nn.elu\n",
    "regularizer = tf.contrib.layers.l2_regularizer(l2_reg)\n",
    "initializer = tf.variance_scaling_initializer()\n",
    "\n",
    "X = tf.placeholder(tf.float32, shape=[None, n_inputs])\n",
    "\n",
    "weights1_init = initializer([n_inputs, n_hidden1])\n",
    "weights2_init = initializer([n_hidden1, n_hidden2])\n",
    "weights3_init = initializer([n_hidden2, n_hidden3])\n",
    "weights4_init = initializer([n_hidden3, n_outputs])\n",
    "\n",
    "weights1 = tf.Variable(weights1_init, dtype=tf.float32, name=\"weights1\")\n",
    "weights2 = tf.Variable(weights2_init, dtype=tf.float32, name=\"weights2\")\n",
    "weights3 = tf.Variable(weights3_init, dtype=tf.float32, name=\"weights3\")\n",
    "weights4 = tf.Variable(weights4_init, dtype=tf.float32, name=\"weights4\")\n",
    "\n",
    "biases1 = tf.Variable(tf.zeros(n_hidden1), name=\"biases1\")\n",
    "biases2 = tf.Variable(tf.zeros(n_hidden2), name=\"biases2\")\n",
    "biases3 = tf.Variable(tf.zeros(n_hidden3), name=\"biases3\")\n",
    "biases4 = tf.Variable(tf.zeros(n_outputs), name=\"biases4\")\n",
    "\n",
    "hidden1 = activation(tf.matmul(X, weights1) + biases1)\n",
    "hidden2 = activation(tf.matmul(hidden1, weights2) + biases2)\n",
    "hidden3 = activation(tf.matmul(hidden2, weights3) + biases3)\n",
    "outputs = tf.matmul(hidden3, weights4) + biases4\n",
    "\n",
    "reconstruction_loss = tf.reduce_mean(tf.square(outputs - X))\n",
    "\n",
    "optimizer = tf.train.AdamOptimizer(learning_rate)\n",
    "\n",
    "with tf.name_scope(\"phase1\"):\n",
    "    phase1_outputs = tf.matmul(hidden1, weights4) + biases4  # hidden2와 hidden3 통과합니다\n",
    "    phase1_reconstruction_loss = tf.reduce_mean(tf.square(phase1_outputs - X))\n",
    "    phase1_reg_loss = regularizer(weights1) + regularizer(weights4)\n",
    "    phase1_loss = phase1_reconstruction_loss + phase1_reg_loss\n",
    "    phase1_training_op = optimizer.minimize(phase1_loss)\n",
    "\n",
    "with tf.name_scope(\"phase2\"):\n",
    "    phase2_reconstruction_loss = tf.reduce_mean(tf.square(hidden3 - hidden1))\n",
    "    phase2_reg_loss = regularizer(weights2) + regularizer(weights3)\n",
    "    phase2_loss = phase2_reconstruction_loss + phase2_reg_loss\n",
    "    train_vars = [weights2, biases2, weights3, biases3]\n",
    "    phase2_training_op = optimizer.minimize(phase2_loss, var_list=train_vars) # hidden1 동결\n",
    "    \n",
    "init = tf.global_variables_initializer()\n",
    "saver = tf.train.Saver()"
   ]
  },
  {
   "cell_type": "code",
   "execution_count": 18,
   "metadata": {},
   "outputs": [
    {
     "name": "stdout",
     "output_type": "stream",
     "text": [
      "훈련 단계 #1\n",
      "09% 훈련 MSE: 0.007932796\n",
      "19% 훈련 MSE: 0.0073406147\n",
      "29% 훈련 MSE: 0.007749695\n",
      "3 훈련 MSE: 0.007719645\n",
      "훈련 단계 #2\n",
      "09% 훈련 MSE: 0.24961476\n",
      "19% 훈련 MSE: 0.005592799\n",
      "29% 훈련 MSE: 0.0029503654\n",
      "3 훈련 MSE: 0.0023403305\n",
      "테스트 MSE: 0.009832288\n"
     ]
    }
   ],
   "source": [
    "training_ops = [phase1_training_op, phase2_training_op]\n",
    "reconstruction_losses = [phase1_reconstruction_loss, phase2_reconstruction_loss]\n",
    "n_epochs = [4, 4]\n",
    "batch_sizes = [150, 150]\n",
    "\n",
    "with tf.Session() as sess:\n",
    "    init.run()\n",
    "    for phase in range(2):\n",
    "        print(\"훈련 단계 #{}\".format(phase + 1))\n",
    "        for epoch in range(n_epochs[phase]):\n",
    "            n_batches = len(X_train) // batch_sizes[phase]\n",
    "            for iteration in range(n_batches):\n",
    "                print(\"\\r{}%\".format(100 * iteration // n_batches), end=\"\")\n",
    "                sys.stdout.flush()\n",
    "                X_batch, y_batch = next(shuffle_batch(X_train, y_train, batch_sizes[phase]))\n",
    "                sess.run(training_ops[phase], feed_dict={X: X_batch})\n",
    "            loss_train = reconstruction_losses[phase].eval(feed_dict={X: X_batch})\n",
    "            print(\"\\r{}\".format(epoch), \"훈련 MSE:\", loss_train)\n",
    "            saver.save(sess, \"./my_model_one_at_a_time.ckpt\")\n",
    "    loss_test = reconstruction_loss.eval(feed_dict={X: X_test})\n",
    "    print(\"테스트 MSE:\", loss_test)"
   ]
  },
  {
   "cell_type": "markdown",
   "metadata": {},
   "source": [
    "##### 동결 층의 출력을 캐싱하기"
   ]
  },
  {
   "cell_type": "code",
   "execution_count": 19,
   "metadata": {},
   "outputs": [
    {
     "name": "stdout",
     "output_type": "stream",
     "text": [
      "훈련 단계 #1\n",
      "09% 훈련 MSE: 0.008147025\n",
      "19% 훈련 MSE: 0.007710265\n",
      "29% 훈련 MSE: 0.007226933\n",
      "39% 훈련 MSE: 0.007944853\n",
      "훈련 단계 #2\n",
      "0 훈련 MSE: 0.3619457\n",
      "19% 훈련 MSE: 0.006168533\n",
      "29% 훈련 MSE: 0.002695943\n",
      "3 훈련 MSE: 0.002236235\n",
      "테스트 MSE: 0.00980622\n"
     ]
    }
   ],
   "source": [
    "training_ops = [phase1_training_op, phase2_training_op]\n",
    "reconstruction_losses = [phase1_reconstruction_loss, phase2_reconstruction_loss]\n",
    "n_epochs = [4, 4]\n",
    "batch_sizes = [150, 150]\n",
    "\n",
    "with tf.Session() as sess:\n",
    "    init.run()\n",
    "    for phase in range(2):\n",
    "        print(\"훈련 단계 #{}\".format(phase + 1))\n",
    "        if phase == 1:\n",
    "            hidden1_cache = hidden1.eval(feed_dict={X: X_train})\n",
    "        for epoch in range(n_epochs[phase]):\n",
    "            n_batches = len(X_train) // batch_sizes[phase]\n",
    "            for iteration in range(n_batches):\n",
    "                print(\"\\r{}%\".format(100 * iteration // n_batches), end=\"\")\n",
    "                sys.stdout.flush()\n",
    "                if phase == 1:\n",
    "                    indices = rnd.permutation(len(X_train))\n",
    "                    hidden1_batch = hidden1_cache[indices[:batch_sizes[phase]]]\n",
    "                    feed_dict = {hidden1: hidden1_batch}\n",
    "                    sess.run(training_ops[phase], feed_dict=feed_dict)\n",
    "                else:\n",
    "                    X_batch, y_batch = next(shuffle_batch(X_train, y_train, batch_sizes[phase]))\n",
    "                    feed_dict = {X: X_batch}\n",
    "                    sess.run(training_ops[phase], feed_dict=feed_dict)\n",
    "            loss_train = reconstruction_losses[phase].eval(feed_dict=feed_dict)\n",
    "            print(\"\\r{}\".format(epoch), \"훈련 MSE:\", loss_train)\n",
    "            saver.save(sess, \"./my_model_cache_frozen.ckpt\")\n",
    "    loss_test = reconstruction_loss.eval(feed_dict={X: X_test})\n",
    "    print(\"테스트 MSE:\", loss_test)"
   ]
  },
  {
   "cell_type": "markdown",
   "metadata": {},
   "source": [
    "#### 15.3.4 재구성 시각화\n",
    "- 오토인코더가 제대로 훈련되었는지 확인하는 한 가지 방법은 입력과 출력을 비교해보는 것\n",
    "    - 이 둘이 매우 비슷해야 하고, 차이가 있다면 중요한 부분이 아니어야 함"
   ]
  },
  {
   "cell_type": "code",
   "execution_count": 20,
   "metadata": {},
   "outputs": [
    {
     "name": "stdout",
     "output_type": "stream",
     "text": [
      "INFO:tensorflow:Restoring parameters from ./my_model_one_at_a_time.ckpt\n"
     ]
    },
    {
     "data": {
      "image/png": "[encoded data removed]",
      "text/plain": [
       "<Figure size 432x288 with 4 Axes>"
      ]
     },
     "metadata": {
      "needs_background": "light"
     },
     "output_type": "display_data"
    }
   ],
   "source": [
    "n_test_digits = 2\n",
    "# X_test = mnist.test.images[:n_test_digits]\n",
    "\n",
    "with tf.Session() as sess:\n",
    "    saver.restore(sess, \"./my_model_one_at_a_time.ckpt\") # not shown in the book\n",
    "    outputs_val = outputs.eval(feed_dict={X: X_test[:n_test_digits]})\n",
    "\n",
    "def plot_image(image, shape=[28, 28]):\n",
    "    plt.imshow(image.reshape(shape), cmap=\"Greys\", interpolation=\"nearest\")\n",
    "    plt.axis(\"off\")\n",
    "\n",
    "for digit_index in range(n_test_digits):\n",
    "    plt.subplot(n_test_digits, 2, digit_index * 2 + 1)\n",
    "    plot_image(X_test[digit_index])\n",
    "    plt.subplot(n_test_digits, 2, digit_index * 2 + 2)\n",
    "    plot_image(outputs_val[digit_index]) # 결과는 매우 비슷해 보임"
   ]
  },
  {
   "cell_type": "markdown",
   "metadata": {},
   "source": [
    "#### 15.3.5 특성 시각화\n",
    "- 오토인코더가 어떤 특성을 학습했으므로 이를 확인해야 함\n",
    "    - 가장 간단한 기법은 은닉층에 있는 각 뉴런을 가장 크게 활성화시키는 훈련 샘플을 찾는 것\n",
    "        - 특히 이 방법은 최상단의 은닉층에 유용(비교적 큰 특성을 잡아내기 때문에 이를 포함한 샘플을 찾기 쉬움)\n",
    "        - 하위층은 특성의 크기가 작고 추상적이므로 이런 기법이 잘 들어맞지 않음\n",
    "    - 다른 기법으로는 첫 번째 은닉층에 있는 각 뉴런에 연결된 가중치를 픽셀의 강도로 하는 이미지를 만들 수 있음"
   ]
  },
  {
   "cell_type": "code",
   "execution_count": 21,
   "metadata": {},
   "outputs": [
    {
     "name": "stdout",
     "output_type": "stream",
     "text": [
      "INFO:tensorflow:Restoring parameters from ./my_model_one_at_a_time.ckpt\n"
     ]
    },
    {
     "data": {
      "image/png": "[encoded data removed]",
      "text/plain": [
       "<Figure size 432x288 with 5 Axes>"
      ]
     },
     "metadata": {
      "needs_background": "light"
     },
     "output_type": "display_data"
    }
   ],
   "source": [
    "# 첫 번째 은닉층에서 다섯 개 뉴런에서 학습한 특성을 그림\n",
    "with tf.Session() as sess:\n",
    "    saver.restore(sess, \"./my_model_one_at_a_time.ckpt\")\n",
    "    weights1_val = weights1.eval()\n",
    "\n",
    "for i in range(5):\n",
    "    plt.subplot(1, 5, i + 1)\n",
    "    plot_image(weights1_val.T[i])\n",
    "\n",
    "plt.show() # 그림은 저수준 특성을 얻음"
   ]
  },
  {
   "cell_type": "markdown",
   "metadata": {},
   "source": [
    "- 또 다른 기법은 랜덤한 입력 이미지를 오토 인코더에 주입하고, 관심 있는 뉴런의 활성화를 관찰하여 이 뉴런이 더 활성화되는 방향으로 이미지를 수정하도록 역전파를 수행하는 것(이를 여러 번 반복하면 이미지는 점차 놀라운 방향으로 바뀜)"
   ]
  },
  {
   "cell_type": "markdown",
   "metadata": {},
   "source": [
    "## 15.4 적층 오토인코더를 사용한 비지도 사전 훈련\n",
    "- 레이블되어 있는 훈련 데이터가 많지 않은 복잡한 지도 학습 문제를 다루어야 한다면, 한 가지 방법은 비슷한 문제에서 학습된 신경망을 찾아 하위층을 재사용하는 것\n",
    "    - 이렇게 하면 저수준의 특성을 학습할 필요가 없기 때문에 적은 훈련 데이터만 사용해도 고성능 모델을 훈련시킬 수 있음\n",
    "    - 즉, 기존의 네트워크에서 학습한 특성 감지 기능을 재사용하는 것"
   ]
  },
  {
   "cell_type": "code",
   "execution_count": 22,
   "metadata": {},
   "outputs": [],
   "source": [
    "# MNIST 분류를 위한 작은 신경망 생성\n",
    "reset_graph()\n",
    "\n",
    "n_inputs = 28 * 28\n",
    "n_hidden1 = 300\n",
    "n_hidden2 = 150\n",
    "n_outputs = 10\n",
    "\n",
    "learning_rate = 0.01\n",
    "l2_reg = 0.0005\n",
    "\n",
    "activation = tf.nn.elu\n",
    "regularizer = tf.contrib.layers.l2_regularizer(l2_reg)\n",
    "initializer = tf.variance_scaling_initializer()\n",
    "\n",
    "X = tf.placeholder(tf.float32, shape=[None, n_inputs])\n",
    "y = tf.placeholder(tf.int32, shape=[None])\n",
    "\n",
    "weights1_init = initializer([n_inputs, n_hidden1])\n",
    "weights2_init = initializer([n_hidden1, n_hidden2])\n",
    "weights3_init = initializer([n_hidden2, n_outputs])\n",
    "\n",
    "weights1 = tf.Variable(weights1_init, dtype=tf.float32, name=\"weights1\")\n",
    "weights2 = tf.Variable(weights2_init, dtype=tf.float32, name=\"weights2\")\n",
    "weights3 = tf.Variable(weights3_init, dtype=tf.float32, name=\"weights3\")\n",
    "\n",
    "biases1 = tf.Variable(tf.zeros(n_hidden1), name=\"biases1\")\n",
    "biases2 = tf.Variable(tf.zeros(n_hidden2), name=\"biases2\")\n",
    "biases3 = tf.Variable(tf.zeros(n_outputs), name=\"biases3\")\n",
    "\n",
    "hidden1 = activation(tf.matmul(X, weights1) + biases1)\n",
    "hidden2 = activation(tf.matmul(hidden1, weights2) + biases2)\n",
    "logits = tf.matmul(hidden2, weights3) + biases3\n",
    "\n",
    "cross_entropy = tf.nn.sparse_softmax_cross_entropy_with_logits(labels=y, logits=logits)\n",
    "reg_loss = regularizer(weights1) + regularizer(weights2) + regularizer(weights3)\n",
    "loss = cross_entropy + reg_loss\n",
    "optimizer = tf.train.AdamOptimizer(learning_rate)\n",
    "training_op = optimizer.minimize(loss)\n",
    "\n",
    "correct = tf.nn.in_top_k(logits, y, 1)\n",
    "accuracy = tf.reduce_mean(tf.cast(correct, tf.float32))\n",
    "\n",
    "init = tf.global_variables_initializer()\n",
    "pretrain_saver = tf.train.Saver([weights1, weights2, biases1, biases2])\n",
    "saver = tf.train.Saver()"
   ]
  },
  {
   "cell_type": "code",
   "execution_count": 23,
   "metadata": {},
   "outputs": [
    {
     "name": "stdout",
     "output_type": "stream",
     "text": [
      "09% 검증 세트 정확도: 0.93333334 테스트 정확도: 0.9191\n",
      "1 검증 세트 정확도: 0.97333336 테스트 정확도: 0.9371\n",
      "29% 검증 세트 정확도: 0.9866667 테스트 정확도: 0.9318\n",
      "39% 검증 세트 정확도: 0.97333336 테스트 정확도: 0.9403\n"
     ]
    }
   ],
   "source": [
    "# 사전 훈련 없이 평범하게 훈련\n",
    "n_epochs = 4\n",
    "batch_size = 150\n",
    "n_labeled_instances = 20000\n",
    "\n",
    "with tf.Session() as sess:\n",
    "    init.run()\n",
    "    for epoch in range(n_epochs):\n",
    "        n_batches = n_labeled_instances // batch_size\n",
    "        for iteration in range(n_batches):\n",
    "            print(\"\\r{}%\".format(100 * iteration // n_batches), end=\"\")\n",
    "            sys.stdout.flush()\n",
    "            indices = rnd.permutation(n_labeled_instances)[:batch_size]\n",
    "            X_batch, y_batch = X_train[indices], y_train[indices]\n",
    "            sess.run(training_op, feed_dict={X: X_batch, y: y_batch})\n",
    "        accuracy_val = accuracy.eval(feed_dict={X: X_batch, y: y_batch})\n",
    "        print(\"\\r{}\".format(epoch), \"검증 세트 정확도:\", accuracy_val, end=\" \")\n",
    "        saver.save(sess, \"./my_model_supervised.ckpt\")\n",
    "        test_val = accuracy.eval(feed_dict={X: X_test, y: y_test})\n",
    "        print(\"테스트 정확도:\", test_val)"
   ]
  },
  {
   "cell_type": "code",
   "execution_count": 24,
   "metadata": {},
   "outputs": [
    {
     "name": "stdout",
     "output_type": "stream",
     "text": [
      "INFO:tensorflow:Restoring parameters from ./my_model_cache_frozen.ckpt\n",
      "09% 훈련 정확도: 0.9533333\t테스트 정확도: 0.9273\n",
      "19% 훈련 정확도: 0.94\t테스트 정확도: 0.9401\n",
      "2 훈련 정확도: 0.96666664\t테스트 정확도: 0.9413\n",
      "39% 훈련 정확도: 0.9866667\t테스트 정확도: 0.938\n"
     ]
    }
   ],
   "source": [
    "# 사전 훈련된 오토인코더의 첫 두개의 층을 재사용\n",
    "n_epochs = 4\n",
    "batch_size = 150\n",
    "n_labeled_instances = 20000\n",
    "\n",
    "#training_op = optimizer.minimize(loss, var_list=[weights3, biases3])  # layers 1와 2를 동결 (선택사항)\n",
    "\n",
    "with tf.Session() as sess:\n",
    "    init.run()\n",
    "    pretrain_saver.restore(sess, \"./my_model_cache_frozen.ckpt\")\n",
    "    for epoch in range(n_epochs):\n",
    "        n_batches = n_labeled_instances // batch_size\n",
    "        for iteration in range(n_batches):\n",
    "            print(\"\\r{}%\".format(100 * iteration // n_batches), end=\"\")\n",
    "            sys.stdout.flush()\n",
    "            indices = rnd.permutation(n_labeled_instances)[:batch_size]\n",
    "            X_batch, y_batch = X_train[indices], y_train[indices]\n",
    "            sess.run(training_op, feed_dict={X: X_batch, y: y_batch})\n",
    "        accuracy_val = accuracy.eval(feed_dict={X: X_batch, y: y_batch})\n",
    "        print(\"\\r{}\".format(epoch), \"훈련 정확도:\", accuracy_val, end=\"\\t\")\n",
    "        saver.save(sess, \"./my_model_supervised_pretrained.ckpt\")\n",
    "        test_val = accuracy.eval(feed_dict={X: X_test, y: y_test})\n",
    "        print(\"테스트 정확도:\", test_val)"
   ]
  },
  {
   "cell_type": "markdown",
   "metadata": {},
   "source": [
    "## 15.5 잡음제거 오토인코더\n",
    "- 오토인코더가 유용한 특성을 학습하도록 강제하는 다른 방법은 입력에 잡음을 추가하고, 노이즈가 없는 원본 입력을 복원하도록 훈련시키는 것\n",
    "    - 이렇게 하면 오토인코더가 단순히 입력을 출력으로 복사하지 못하므로 데이터에 있는 패턴을 찾아야 함"
   ]
  },
  {
   "cell_type": "markdown",
   "metadata": {},
   "source": [
    "#### 15.5.1 텐서플로 구현\n",
    "- 가우시안 잡음과 드롭아웃 잡음을 사용"
   ]
  },
  {
   "cell_type": "code",
   "execution_count": 25,
   "metadata": {},
   "outputs": [],
   "source": [
    "# 가우시안 잡음 사용\n",
    "reset_graph()\n",
    "\n",
    "n_inputs = 28 * 28\n",
    "n_hidden1 = 300\n",
    "n_hidden2 = 150  # 코딩 유닛\n",
    "n_hidden3 = n_hidden1\n",
    "n_outputs = n_inputs\n",
    "\n",
    "learning_rate = 0.01\n",
    "\n",
    "noise_level = 1.0\n",
    "\n",
    "X = tf.placeholder(tf.float32, shape=[None, n_inputs])\n",
    "X_noisy = X + noise_level * tf.random_normal(tf.shape(X))\n",
    "\n",
    "hidden1 = tf.layers.dense(X_noisy, n_hidden1, activation=tf.nn.relu, name=\"hidden1\")\n",
    "hidden2 = tf.layers.dense(hidden1, n_hidden2, activation=tf.nn.relu, name=\"hidden2\")\n",
    "hidden3 = tf.layers.dense(hidden2, n_hidden3, activation=tf.nn.relu, name=\"hidden3\")\n",
    "outputs = tf.layers.dense(hidden3, n_outputs, name=\"outputs\")\n",
    "\n",
    "reconstruction_loss = tf.reduce_mean(tf.square(outputs - X)) # MSE\n",
    "\n",
    "optimizer = tf.train.AdamOptimizer(learning_rate)\n",
    "training_op = optimizer.minimize(reconstruction_loss)\n",
    "    \n",
    "init = tf.global_variables_initializer()\n",
    "saver = tf.train.Saver()"
   ]
  },
  {
   "cell_type": "code",
   "execution_count": 26,
   "metadata": {},
   "outputs": [
    {
     "name": "stdout",
     "output_type": "stream",
     "text": [
      "0 훈련 MSE: 0.04446056\n",
      "19% 훈련 MSE: 0.038714346\n",
      "29% 훈련 MSE: 0.043836817\n",
      "39% 훈련 MSE: 0.042689517\n",
      "49% 훈련 MSE: 0.04120454\n",
      "59% 훈련 MSE: 0.041640867\n",
      "69% 훈련 MSE: 0.042375557\n",
      "79% 훈련 MSE: 0.040318266\n",
      "89% 훈련 MSE: 0.043710943\n",
      "99% 훈련 MSE: 0.042379368\n"
     ]
    }
   ],
   "source": [
    "n_epochs = 10\n",
    "batch_size = 150\n",
    "\n",
    "with tf.Session() as sess:\n",
    "    init.run()\n",
    "    for epoch in range(n_epochs):\n",
    "        n_batches = len(X_train) // batch_size\n",
    "        for iteration in range(n_batches):\n",
    "            print(\"\\r{}%\".format(100 * iteration // n_batches), end=\"\")\n",
    "            sys.stdout.flush()\n",
    "            X_batch, y_batch = next(shuffle_batch(X_train, y_train, batch_size))\n",
    "            sess.run(training_op, feed_dict={X: X_batch})\n",
    "        loss_train = reconstruction_loss.eval(feed_dict={X: X_batch})\n",
    "        print(\"\\r{}\".format(epoch), \"훈련 MSE:\", loss_train)\n",
    "        saver.save(sess, \"./my_model_stacked_denoising_gaussian.ckpt\")"
   ]
  },
  {
   "cell_type": "code",
   "execution_count": 27,
   "metadata": {},
   "outputs": [
    {
     "name": "stdout",
     "output_type": "stream",
     "text": [
      "WARNING:tensorflow:From <ipython-input-27-189d1e2d20a8>:17: dropout (from tensorflow.python.layers.core) is deprecated and will be removed in a future version.\n",
      "Instructions for updating:\n",
      "Use keras.layers.dropout instead.\n",
      "WARNING:tensorflow:From C:\\Users\\Yoo\\Anaconda3\\lib\\site-packages\\tensorflow\\python\\keras\\layers\\core.py:143: calling dropout (from tensorflow.python.ops.nn_ops) with keep_prob is deprecated and will be removed in a future version.\n",
      "Instructions for updating:\n",
      "Please use `rate` instead of `keep_prob`. Rate should be set to `rate = 1 - keep_prob`.\n"
     ]
    }
   ],
   "source": [
    "# 드롭아웃 잡음 사용\n",
    "reset_graph()\n",
    "\n",
    "n_inputs = 28 * 28\n",
    "n_hidden1 = 300\n",
    "n_hidden2 = 150  # 코딩 유닛\n",
    "n_hidden3 = n_hidden1\n",
    "n_outputs = n_inputs\n",
    "\n",
    "learning_rate = 0.01\n",
    "\n",
    "dropout_rate = 0.3\n",
    "\n",
    "training = tf.placeholder_with_default(False, shape=(), name='training')\n",
    "\n",
    "X = tf.placeholder(tf.float32, shape=[None, n_inputs])\n",
    "X_drop = tf.layers.dropout(X, dropout_rate, training=training)\n",
    "\n",
    "hidden1 = tf.layers.dense(X_drop, n_hidden1, activation=tf.nn.relu, name=\"hidden1\")\n",
    "hidden2 = tf.layers.dense(hidden1, n_hidden2, activation=tf.nn.relu, name=\"hidden2\")\n",
    "hidden3 = tf.layers.dense(hidden2, n_hidden3, activation=tf.nn.relu, name=\"hidden3\")\n",
    "outputs = tf.layers.dense(hidden3, n_outputs, name=\"outputs\")\n",
    "\n",
    "reconstruction_loss = tf.reduce_mean(tf.square(outputs - X)) # MSE\n",
    "\n",
    "optimizer = tf.train.AdamOptimizer(learning_rate)\n",
    "training_op = optimizer.minimize(reconstruction_loss)\n",
    "    \n",
    "init = tf.global_variables_initializer()\n",
    "saver = tf.train.Saver()"
   ]
  },
  {
   "cell_type": "code",
   "execution_count": 28,
   "metadata": {},
   "outputs": [
    {
     "name": "stdout",
     "output_type": "stream",
     "text": [
      "09% 훈련 MSE: 0.028069168\n",
      "19% 훈련 MSE: 0.023578122\n",
      "29% 훈련 MSE: 0.025170064\n",
      "39% 훈련 MSE: 0.023552254\n",
      "49% 훈련 MSE: 0.02383423\n",
      "59% 훈련 MSE: 0.02311757\n",
      "69% 훈련 MSE: 0.02342265\n",
      "7 훈련 MSE: 0.02238668\n",
      "89% 훈련 MSE: 0.02346741\n",
      "99% 훈련 MSE: 0.023901047\n"
     ]
    }
   ],
   "source": [
    "n_epochs = 10\n",
    "batch_size = 150\n",
    "\n",
    "with tf.Session() as sess:\n",
    "    init.run()\n",
    "    for epoch in range(n_epochs):\n",
    "        n_batches = len(X_train) // batch_size\n",
    "        for iteration in range(n_batches):\n",
    "            print(\"\\r{}%\".format(100 * iteration // n_batches), end=\"\")\n",
    "            sys.stdout.flush()\n",
    "            X_batch, y_batch = next(shuffle_batch(X_train, y_train, batch_size))\n",
    "            sess.run(training_op, feed_dict={X: X_batch, training: True}) # 훈련하는 동안은 True로 해야함\n",
    "        loss_train = reconstruction_loss.eval(feed_dict={X: X_batch})\n",
    "        print(\"\\r{}\".format(epoch), \"훈련 MSE:\", loss_train)\n",
    "        saver.save(sess, \"./my_model_stacked_denoising_dropout.ckpt\")"
   ]
  },
  {
   "cell_type": "code",
   "execution_count": 29,
   "metadata": {},
   "outputs": [
    {
     "name": "stdout",
     "output_type": "stream",
     "text": [
      "INFO:tensorflow:Restoring parameters from ./my_model_stacked_denoising_dropout.ckpt\n"
     ]
    },
    {
     "data": {
      "image/png": "[encoded data removed]",
      "text/plain": [
       "<Figure size 576x432 with 4 Axes>"
      ]
     },
     "metadata": {
      "needs_background": "light"
     },
     "output_type": "display_data"
    }
   ],
   "source": [
    "show_reconstructed_digits(X, outputs, \"./my_model_stacked_denoising_dropout.ckpt\")"
   ]
  },
  {
   "cell_type": "markdown",
   "metadata": {},
   "source": [
    "## 15.6 희소 오토인코더\n",
    "- 좋은 특성을 추출하도록 만드는 다른 제약의 방식은 희소\n",
    "    - 이는 비용 함수에 적절한 항을 추가하여 오토인코더가 코딩층에서 활성화되는 뉴런 수를 감소시키도록 만듬\n",
    "    - 예를 들어 코딩층에서 평균적으로 5% 뉴런만 두드러지게 활성화되도록 강제할 수 있음\n",
    "    - 적은 수의 뉴런만을 활용하여 입력을 표현해야 하므로 뉴런은 유용한 특성을 표현하게 됨\n",
    "- 희소 모델을 만들기 위해 먼저 각 훈련 반복에서 코딩층의 실제 희소 정도를 측정해야 함(이때 배치 크기는 너무 작지 않아야 함)\n",
    "- 각 뉴런에 대한 평균 활성화 정도를 알면 비용 함수에 희소 손실을 추가하여 뉴런이 너무 활성화되지 않도록 규제할 수 있음\n",
    "    - 예를 들어 한 뉴런의 평균 활성화가 0.3이고 목표 희소 정도가 0.1이라면 이 뉴런은 덜 활성화되도록 규제되어야 함\n",
    "    - 비용 함수에 제곱 오차를 추가할 수 있지만, 더 좋은 방법은 쿨러 라이블러 발산을 사용하는 것"
   ]
  },
  {
   "cell_type": "code",
   "execution_count": 30,
   "metadata": {},
   "outputs": [
    {
     "data": {
      "text/plain": [
       "[0, 1, 0, 0.95]"
      ]
     },
     "execution_count": 30,
     "metadata": {},
     "output_type": "execute_result"
    },
    {
     "data": {
      "image/png": "[encoded data removed]",
      "text/plain": [
       "<Figure size 432x288 with 1 Axes>"
      ]
     },
     "metadata": {
      "needs_background": "light"
     },
     "output_type": "display_data"
    }
   ],
   "source": [
    "p = 0.1\n",
    "q = np.linspace(0.001, 0.999, 500)\n",
    "kl_div = p * np.log(p / q) + (1 - p) * np.log((1 - p) / (1 - q))\n",
    "mse = (p - q)**2\n",
    "plt.plot([p, p], [0, 0.3], \"k:\")\n",
    "plt.text(0.05, 0.32, \"Target Sparsity\", fontsize=14) # 목표 희소\n",
    "plt.plot(q, kl_div, \"b-\", label=\"Kullback-Leibler divergence\") # 쿨러 라이블러 발산\n",
    "plt.plot(q, mse, \"r--\", label=\"MSE\")\n",
    "plt.legend(loc=\"upper left\")\n",
    "plt.xlabel(\"real Sparsity\") # 실제 희소\n",
    "plt.ylabel(\"cost\", rotation=0) # 비용\n",
    "plt.axis([0, 1, 0, 0.95])"
   ]
  },
  {
   "cell_type": "markdown",
   "metadata": {},
   "source": [
    "#### 15.6.1 텐서플로 구현"
   ]
  },
  {
   "cell_type": "code",
   "execution_count": 31,
   "metadata": {},
   "outputs": [
    {
     "name": "stdout",
     "output_type": "stream",
     "text": [
      "WARNING:tensorflow:From C:\\Users\\Yoo\\Anaconda3\\lib\\site-packages\\tensorflow\\python\\ops\\math_ops.py:3066: to_int32 (from tensorflow.python.ops.math_ops) is deprecated and will be removed in a future version.\n",
      "Instructions for updating:\n",
      "Use tf.cast instead.\n"
     ]
    }
   ],
   "source": [
    "reset_graph()\n",
    "\n",
    "n_inputs = 28 * 28\n",
    "n_hidden1 = 1000  # 희소 코딩 유닛\n",
    "n_outputs = n_inputs\n",
    "\n",
    "# 쿨백 라이블러 발산 함수\n",
    "def kl_divergence(p, q):\n",
    "    return p * tf.log(p / q) + (1 - p) * tf.log((1 - p) / (1 - q))\n",
    "\n",
    "learning_rate = 0.01\n",
    "sparsity_target = 0.1\n",
    "sparsity_weight = 0.2\n",
    "\n",
    "X = tf.placeholder(tf.float32, shape=[None, n_inputs])\n",
    "\n",
    "hidden1 = tf.layers.dense(X, n_hidden1, activation=tf.nn.sigmoid) \n",
    "# 코딩층의 활성화가 반드시 0과 1사이어야 함(아니면 KL 발산이 NAN을 반환하므로) 그래서 활성화 함수를 로지스틱으로 설정함\n",
    "outputs = tf.layers.dense(hidden1, n_outputs)\n",
    "\n",
    "hidden1_mean = tf.reduce_mean(hidden1, axis=0) # 배치 평균\n",
    "sparsity_loss = tf.reduce_sum(kl_divergence(sparsity_target, hidden1_mean))\n",
    "reconstruction_loss = tf.reduce_mean(tf.square(outputs - X)) # MSE\n",
    "loss = reconstruction_loss + sparsity_weight * sparsity_loss\n",
    "\n",
    "optimizer = tf.train.AdamOptimizer(learning_rate)\n",
    "training_op = optimizer.minimize(loss)\n",
    "\n",
    "init = tf.global_variables_initializer()\n",
    "saver = tf.train.Saver()"
   ]
  },
  {
   "cell_type": "code",
   "execution_count": 32,
   "metadata": {
    "scrolled": true
   },
   "outputs": [
    {
     "name": "stdout",
     "output_type": "stream",
     "text": [
      "08% 훈련 MSE: 0.13764463 \t희소 손실: 0.9086776 \t전체 손실: 0.31938016\n",
      "18% 훈련 MSE: 0.059780527 \t희소 손실: 0.023853485 \t전체 손실: 0.06455123\n",
      "2 훈련 MSE: 0.052597467 \t희소 손실: 0.028874451 \t전체 손실: 0.058372356\n",
      "3 훈련 MSE: 0.05017224 \t희소 손실: 0.19674255 \t전체 손실: 0.08952075\n",
      "48% 훈련 MSE: 0.04457513 \t희소 손실: 0.0070928843 \t전체 손실: 0.045993704\n",
      "5 훈련 MSE: 0.03982869 \t희소 손실: 0.35642162 \t전체 손실: 0.11111301\n",
      "6 훈련 MSE: 0.03850078 \t희소 손실: 0.0489216 \t전체 손실: 0.048285097\n",
      "7 훈련 MSE: 0.036211826 \t희소 손실: 0.023476806 \t전체 손실: 0.040907186\n",
      "8 훈련 MSE: 0.033634786 \t희소 손실: 0.057290047 \t전체 손실: 0.045092795\n",
      "9 훈련 MSE: 0.030880693 \t희소 손실: 0.042790934 \t전체 손실: 0.03943888\n",
      "10 훈련 MSE: 0.028282983 \t희소 손실: 0.32261822 \t전체 손실: 0.09280663\n",
      "11 훈련 MSE: 0.025015578 \t희소 손실: 0.030909345 \t전체 손실: 0.031197447\n",
      "12 훈련 MSE: 0.023248762 \t희소 손실: 0.08872007 \t전체 손실: 0.040992774\n",
      "13 훈련 MSE: 0.021769175 \t희소 손실: 0.066300735 \t전체 손실: 0.035029322\n",
      "14% 훈련 MSE: 0.022006068 \t희소 손실: 0.11473212 \t전체 손실: 0.04495249\n",
      "15% 훈련 MSE: 0.020363854 \t희소 손실: 0.04796897 \t전체 손실: 0.029957648\n",
      "16% 훈련 MSE: 0.017985547 \t희소 손실: 0.183092 \t전체 손실: 0.05460395\n",
      "17% 훈련 MSE: 0.018661922 \t희소 손실: 0.029089238 \t전체 손실: 0.02447977\n",
      "18 훈련 MSE: 0.017803263 \t희소 손실: 0.23516889 \t전체 손실: 0.06483704\n",
      "19 훈련 MSE: 0.017381176 \t희소 손실: 0.024946982 \t전체 손실: 0.022370573\n",
      "20 훈련 MSE: 0.017425468 \t희소 손실: 0.086695984 \t전체 손실: 0.034764666\n",
      "21 훈련 MSE: 0.016189655 \t희소 손실: 0.04122501 \t전체 손실: 0.024434656\n",
      "22 훈련 MSE: 0.016698195 \t희소 손실: 0.04975678 \t전체 손실: 0.02664955\n",
      "23 훈련 MSE: 0.015898876 \t희소 손실: 0.05508837 \t전체 손실: 0.02691655\n",
      "24 훈련 MSE: 0.017254824 \t희소 손실: 0.077819824 \t전체 손실: 0.032818787\n",
      "25% 훈련 MSE: 0.015573333 \t희소 손실: 0.08851832 \t전체 손실: 0.033276998\n",
      "26 훈련 MSE: 0.014312162 \t희소 손실: 0.071159236 \t전체 손실: 0.028544009\n",
      "27 훈련 MSE: 0.0134528335 \t희소 손실: 0.039494216 \t전체 손실: 0.021351676\n",
      "28 훈련 MSE: 0.0141818 \t희소 손실: 0.03427296 \t전체 손실: 0.021036392\n",
      "29 훈련 MSE: 0.014233899 \t희소 손실: 0.091789134 \t전체 손실: 0.032591727\n",
      "30 훈련 MSE: 0.015912356 \t희소 손실: 0.088046856 \t전체 손실: 0.033521727\n",
      "31 훈련 MSE: 0.014909081 \t희소 손실: 0.098699436 \t전체 손실: 0.03464897\n",
      "32 훈련 MSE: 0.012846002 \t희소 손실: 0.049285438 \t전체 손실: 0.022703089\n",
      "33 훈련 MSE: 0.013661299 \t희소 손실: 0.09084812 \t전체 손실: 0.03183092\n",
      "34 훈련 MSE: 0.013174696 \t희소 손실: 0.041957255 \t전체 손실: 0.021566147\n",
      "35 훈련 MSE: 0.013076468 \t희소 손실: 0.03809423 \t전체 손실: 0.020695314\n",
      "36 훈련 MSE: 0.013874397 \t희소 손실: 0.053888112 \t전체 손실: 0.02465202\n",
      "37 훈련 MSE: 0.01413464 \t희소 손실: 0.08780427 \t전체 손실: 0.031695493\n",
      "38 훈련 MSE: 0.012819655 \t희소 손실: 0.23281106 \t전체 손실: 0.05938187\n",
      "39 훈련 MSE: 0.01234806 \t희소 손실: 0.0440427 \t전체 손실: 0.0211566\n",
      "40 훈련 MSE: 0.012252708 \t희소 손실: 0.13875358 \t전체 손실: 0.040003423\n",
      "41 훈련 MSE: 0.01299603 \t희소 손실: 0.12448272 \t전체 손실: 0.037892576\n",
      "42 훈련 MSE: 0.012731824 \t희소 손실: 0.052207123 \t전체 손실: 0.02317325\n",
      "43 훈련 MSE: 0.012437604 \t희소 손실: 0.15004784 \t전체 손실: 0.042447172\n",
      "44 훈련 MSE: 0.0139943315 \t희소 손실: 0.086156726 \t전체 손실: 0.031225678\n",
      "45% 훈련 MSE: 0.013336363 \t희소 손실: 0.18166208 \t전체 손실: 0.04966878\n",
      "46 훈련 MSE: 0.012504977 \t희소 손실: 0.17851818 \t전체 손실: 0.048208613\n",
      "47 훈련 MSE: 0.013035382 \t희소 손실: 0.1348057 \t전체 손실: 0.03999652\n",
      "48% 훈련 MSE: 0.012266195 \t희소 손실: 0.07756756 \t전체 손실: 0.027779708\n",
      "49% 훈련 MSE: 0.01317722 \t희소 손실: 0.094384246 \t전체 손실: 0.032054067\n",
      "50 훈련 MSE: 0.011335708 \t희소 손실: 0.055621002 \t전체 손실: 0.02245991\n",
      "51 훈련 MSE: 0.011653471 \t희소 손실: 0.1803157 \t전체 손실: 0.047716614\n",
      "52 훈련 MSE: 0.011956133 \t희소 손실: 0.056386083 \t전체 손실: 0.02323335\n",
      "53 훈련 MSE: 0.01185816 \t희소 손실: 0.09703015 \t전체 손실: 0.03126419\n",
      "54 훈련 MSE: 0.011784165 \t희소 손실: 0.08330605 \t전체 손실: 0.028445374\n",
      "55 훈련 MSE: 0.011937046 \t희소 손실: 0.15825102 \t전체 손실: 0.043587252\n",
      "56 훈련 MSE: 0.012403195 \t희소 손실: 0.18447801 \t전체 손실: 0.049298797\n",
      "57 훈련 MSE: 0.012061258 \t희소 손실: 0.14881732 \t전체 손실: 0.04182472\n",
      "58% 훈련 MSE: 0.013030418 \t희소 손실: 0.20365247 \t전체 손실: 0.053760912\n",
      "59 훈련 MSE: 0.015654953 \t희소 손실: 0.15615591 \t전체 손실: 0.04688614\n",
      "60% 훈련 MSE: 0.012482262 \t희소 손실: 0.25862983 \t전체 손실: 0.064208224\n",
      "61 훈련 MSE: 0.015941426 \t희소 손실: 0.95962346 \t전체 손실: 0.20786612\n",
      "62 훈련 MSE: 0.01766432 \t희소 손실: 0.20046294 \t전체 손실: 0.05775691\n",
      "63 훈련 MSE: 0.016196996 \t희소 손실: 0.5585599 \t전체 손실: 0.12790897\n",
      "64 훈련 MSE: 0.013815206 \t희소 손실: 0.84754825 \t전체 손실: 0.18332486\n",
      "65 훈련 MSE: 0.013000802 \t희소 손실: 0.1421502 \t전체 손실: 0.041430842\n",
      "66% 훈련 MSE: 0.015104004 \t희소 손실: 1.1474469 \t전체 손실: 0.24459338\n",
      "67 훈련 MSE: 0.011953486 \t희소 손실: 0.26351807 \t전체 손실: 0.0646571\n",
      "68% 훈련 MSE: 0.01573701 \t희소 손실: 0.16915521 \t전체 손실: 0.04956805\n",
      "69 훈련 MSE: 0.037008945 \t희소 손실: 0.19164175 \t전체 손실: 0.07533729\n",
      "70 훈련 MSE: 0.013612319 \t희소 손실: 0.5762744 \t전체 손실: 0.1288672\n",
      "71% 훈련 MSE: 0.017147928 \t희소 손실: 0.17852888 \t전체 손실: 0.052853703\n",
      "72 훈련 MSE: 0.015508033 \t희소 손실: 0.1816079 \t전체 손실: 0.051829614\n",
      "73 훈련 MSE: 0.027388265 \t희소 손실: 0.3746488 \t전체 손실: 0.10231803\n",
      "74 훈련 MSE: 0.023609422 \t희소 손실: 0.14110537 \t전체 손실: 0.051830497\n",
      "75 훈련 MSE: 0.076053016 \t희소 손실: 0.8011689 \t전체 손실: 0.23628679\n",
      "76 훈련 MSE: 0.024068106 \t희소 손실: 0.19580096 \t전체 손실: 0.063228294\n",
      "77 훈련 MSE: 0.015808253 \t희소 손실: 0.7554366 \t전체 손실: 0.16689558\n",
      "78 훈련 MSE: 0.017363977 \t희소 손실: 0.11928486 \t전체 손실: 0.041220948\n",
      "79% 훈련 MSE: 0.013585685 \t희소 손실: 0.27248436 \t전체 손실: 0.068082556\n",
      "80 훈련 MSE: 0.014584753 \t희소 손실: 0.2480849 \t전체 손실: 0.064201735\n",
      "81 훈련 MSE: 0.013331199 \t희소 손실: 0.6506817 \t전체 손실: 0.14346755\n",
      "82 훈련 MSE: 0.019051224 \t희소 손실: 0.6267012 \t전체 손실: 0.14439146\n",
      "83 훈련 MSE: 0.015483908 \t희소 손실: 0.1916886 \t전체 손실: 0.053821627\n",
      "84 훈련 MSE: 0.027749853 \t희소 손실: 0.18579966 \t전체 손실: 0.064909786\n",
      "85% 훈련 MSE: 0.014414989 \t희소 손실: 0.6567534 \t전체 손실: 0.14576568\n",
      "86 훈련 MSE: 0.015936272 \t희소 손실: 0.13425863 \t전체 손실: 0.042788\n",
      "87 훈련 MSE: 0.014435575 \t희소 손실: 0.2481771 \t전체 손실: 0.064071\n",
      "88% 훈련 MSE: 0.034601822 \t희소 손실: 0.29140955 \t전체 손실: 0.092883736\n",
      "89% 훈련 MSE: 0.016649002 \t희소 손실: 0.43256503 \t전체 손실: 0.103162006\n",
      "90 훈련 MSE: 0.017050372 \t희소 손실: 0.1723983 \t전체 손실: 0.051530033\n",
      "91% 훈련 MSE: 0.035351776 \t희소 손실: 0.21858487 \t전체 손실: 0.07906875\n",
      "92% 훈련 MSE: 0.02555419 \t희소 손실: 0.9047413 \t전체 손실: 0.20650245\n",
      "93 훈련 MSE: 0.014923303 \t희소 손실: 0.07066038 \t전체 손실: 0.02905538\n",
      "94 훈련 MSE: 0.014238221 \t희소 손실: 0.46209428 \t전체 손실: 0.10665708\n",
      "95% 훈련 MSE: 0.014198717 \t희소 손실: 0.0816534 \t전체 손실: 0.030529397\n",
      "96% 훈련 MSE: 0.019745337 \t희소 손실: 0.9571122 \t전체 손실: 0.21116778\n",
      "97 훈련 MSE: 0.016251141 \t희소 손실: 1.0055496 \t전체 손실: 0.21736106\n",
      "98 훈련 MSE: 0.020460222 \t희소 손실: 0.11733665 \t전체 손실: 0.04392755\n",
      "99% 훈련 MSE: 0.014461967 \t희소 손실: 0.28843147 \t전체 손실: 0.07214826\n"
     ]
    }
   ],
   "source": [
    "n_epochs = 100\n",
    "batch_size = 1000\n",
    "\n",
    "with tf.Session() as sess:\n",
    "    init.run()\n",
    "    for epoch in range(n_epochs):\n",
    "        n_batches = len(X_train) // batch_size\n",
    "        for iteration in range(n_batches):\n",
    "            print(\"\\r{}%\".format(100 * iteration // n_batches), end=\"\")\n",
    "            sys.stdout.flush()\n",
    "            X_batch, y_batch = next(shuffle_batch(X_train, y_train, batch_size))\n",
    "            sess.run(training_op, feed_dict={X: X_batch})\n",
    "        reconstruction_loss_val, sparsity_loss_val, loss_val = sess.run([reconstruction_loss, sparsity_loss, loss], feed_dict={X: X_batch})\n",
    "        print(\"\\r{}\".format(epoch), \"훈련 MSE:\", reconstruction_loss_val, \"\\t희소 손실:\", sparsity_loss_val, \"\\t전체 손실:\", loss_val)\n",
    "        saver.save(sess, \"./my_model_sparse.ckpt\")"
   ]
  },
  {
   "cell_type": "code",
   "execution_count": 33,
   "metadata": {},
   "outputs": [
    {
     "name": "stdout",
     "output_type": "stream",
     "text": [
      "INFO:tensorflow:Restoring parameters from ./my_model_sparse.ckpt\n"
     ]
    },
    {
     "data": {
      "image/png": "[encoded data removed]",
      "text/plain": [
       "<Figure size 576x432 with 4 Axes>"
      ]
     },
     "metadata": {
      "needs_background": "light"
     },
     "output_type": "display_data"
    }
   ],
   "source": [
    "show_reconstructed_digits(X, outputs, \"./my_model_sparse.ckpt\")"
   ]
  },
  {
   "cell_type": "code",
   "execution_count": 34,
   "metadata": {},
   "outputs": [],
   "source": [
    "# 훈련 속도를 높이고 싶다면 비용함수로 MSE 대신 크로스엔트로피를 사용(예시)\n",
    "logits = tf.layers.dense(hidden1, n_outputs)\n",
    "outputs = tf.nn.sigmoid(logits)\n",
    "\n",
    "xentropy = tf.nn.sigmoid_cross_entropy_with_logits(labels=X, logits=logits)\n",
    "# sigmoid_cross_entropy_with_logits ==> 출력에 로지스틱(시그모이드) 활성화 함수를 적용하고 크로스엔트로피를 계산함\n",
    "reconstruction_loss = tf.reduce_mean(xentropy)"
   ]
  },
  {
   "cell_type": "markdown",
   "metadata": {},
   "source": [
    "## 15.7 변이형 오토인코더\n",
    "- 변이형 오토인코더는 가장 인기있는 오토인코더의 한 종류로 기존 오토인코더와는 다음이 다름\n",
    "    - 확률적 오토인코더(즉, 훈련이 끝난 후에도 출력이 부분적으로 우연에 의해 결정됨)\n",
    "    - 생성 오토인코더(마치 훈련 세트에서 샘플링된 것 같은 새로운 샘플을 생성할 수 있음)"
   ]
  },
  {
   "cell_type": "code",
   "execution_count": 35,
   "metadata": {},
   "outputs": [],
   "source": [
    "reset_graph()\n",
    "\n",
    "from functools import partial\n",
    "\n",
    "n_inputs = 28 * 28\n",
    "n_hidden1 = 500\n",
    "n_hidden2 = 500\n",
    "n_hidden3 = 20  # 코딩 유닛\n",
    "n_hidden4 = n_hidden2\n",
    "n_hidden5 = n_hidden1\n",
    "n_outputs = n_inputs\n",
    "learning_rate = 0.001\n",
    "\n",
    "initializer = tf.variance_scaling_initializer()\n",
    "\n",
    "my_dense_layer = partial(tf.layers.dense, activation=tf.nn.elu, kernel_initializer=initializer)\n",
    "\n",
    "X = tf.placeholder(tf.float32, [None, n_inputs])\n",
    "hidden1 = my_dense_layer(X, n_hidden1)\n",
    "hidden2 = my_dense_layer(hidden1, n_hidden2)\n",
    "hidden3_mean = my_dense_layer(hidden2, n_hidden3, activation=None)\n",
    "hidden3_sigma = my_dense_layer(hidden2, n_hidden3, activation=None)\n",
    "noise = tf.random_normal(tf.shape(hidden3_sigma), dtype=tf.float32)\n",
    "hidden3 = hidden3_mean + hidden3_sigma * noise\n",
    "hidden4 = my_dense_layer(hidden3, n_hidden4)\n",
    "hidden5 = my_dense_layer(hidden4, n_hidden5)\n",
    "logits = my_dense_layer(hidden5, n_outputs, activation=None)\n",
    "outputs = tf.sigmoid(logits)\n",
    "\n",
    "xentropy = tf.nn.sigmoid_cross_entropy_with_logits(labels=X, logits=logits)\n",
    "reconstruction_loss = tf.reduce_sum(xentropy)\n",
    "\n",
    "eps = 1e-10 # NaN을 반환하는 log(0)을 피하기 위한 안전항\n",
    "latent_loss = 0.5 * tf.reduce_sum(tf.square(hidden3_sigma) + tf.square(hidden3_mean) - 1 - tf.log(eps + tf.square(hidden3_sigma)))\n",
    "\n",
    "loss = reconstruction_loss + latent_loss\n",
    "\n",
    "optimizer = tf.train.AdamOptimizer(learning_rate=learning_rate)\n",
    "training_op = optimizer.minimize(loss)\n",
    "\n",
    "init = tf.global_variables_initializer()\n",
    "saver = tf.train.Saver()"
   ]
  },
  {
   "cell_type": "code",
   "execution_count": 36,
   "metadata": {
    "scrolled": true
   },
   "outputs": [
    {
     "name": "stdout",
     "output_type": "stream",
     "text": [
      "09% 훈련 전체 손실: 26522.484 \t재구성 손실: 22048.158 \t잠재 손실: 4474.325\n",
      "19% 훈련 전체 손실: 30053.914 \t재구성 손실: 25044.312 \t잠재 손실: 5009.601\n",
      "2 훈련 전체 손실: 26719.02 \t재구성 손실: 20768.508 \t잠재 손실: 5950.5127\n",
      "39% 훈련 전체 손실: 22574.172 \t재구성 손실: 19640.877 \t잠재 손실: 2933.2954\n",
      "49% 훈련 전체 손실: 22014.242 \t재구성 손실: 18007.61 \t잠재 손실: 4006.6333\n",
      "59% 훈련 전체 손실: 18545.068 \t재구성 손실: 15334.816 \t잠재 손실: 3210.252\n",
      "69% 훈련 전체 손실: 17214.39 \t재구성 손실: 14051.636 \t잠재 손실: 3162.7556\n",
      "7 훈련 전체 손실: 16084.497 \t재구성 손실: 12800.945 \t잠재 손실: 3283.5518\n",
      "89% 훈련 전체 손실: 16574.602 \t재구성 손실: 13183.182 \t잠재 손실: 3391.4202\n",
      "9 훈련 전체 손실: 16607.076 \t재구성 손실: 13171.383 \t잠재 손실: 3435.6938\n",
      "10% 훈련 전체 손실: 15642.261 \t재구성 손실: 12361.354 \t잠재 손실: 3280.907\n",
      "11% 훈련 전체 손실: 16286.32 \t재구성 손실: 12930.172 \t잠재 손실: 3356.149\n",
      "12 훈련 전체 손실: 16015.586 \t재구성 손실: 12633.936 \t잠재 손실: 3381.6504\n",
      "13 훈련 전체 손실: 16084.544 \t재구성 손실: 12724.547 \t잠재 손실: 3359.997\n",
      "14% 훈련 전체 손실: 15525.684 \t재구성 손실: 12086.49 \t잠재 손실: 3439.1938\n",
      "15 훈련 전체 손실: 20030.01 \t재구성 손실: 16783.746 \t잠재 손실: 3246.2632\n",
      "16% 훈련 전체 손실: 24489.844 \t재구성 손실: 18909.484 \t잠재 손실: 5580.3594\n",
      "17 훈련 전체 손실: 31295.855 \t재구성 손실: 22843.375 \t잠재 손실: 8452.481\n",
      "18% 훈련 전체 손실: 28087.498 \t재구성 손실: 22062.809 \t잠재 손실: 6024.6895\n",
      "19% 훈련 전체 손실: 24449.016 \t재구성 손실: 19667.082 \t잠재 손실: 4781.934\n",
      "20% 훈련 전체 손실: 21267.584 \t재구성 손실: 17581.668 \t잠재 손실: 3685.9158\n",
      "21 훈련 전체 손실: 23135.336 \t재구성 손실: 18887.43 \t잠재 손실: 4247.9053\n",
      "22 훈련 전체 손실: 22818.27 \t재구성 손실: 18663.154 \t잠재 손실: 4155.1157\n",
      "23% 훈련 전체 손실: 20449.06 \t재구성 손실: 17110.562 \t잠재 손실: 3338.498\n",
      "24% 훈련 전체 손실: 17720.277 \t재구성 손실: 14438.96 \t잠재 손실: 3281.317\n",
      "25% 훈련 전체 손실: 16468.398 \t재구성 손실: 13111.957 \t잠재 손실: 3356.4412\n",
      "26 훈련 전체 손실: 16323.034 \t재구성 손실: 12976.01 \t잠재 손실: 3347.0242\n",
      "27% 훈련 전체 손실: 15950.773 \t재구성 손실: 12556.838 \t잠재 손실: 3393.9358\n",
      "28% 훈련 전체 손실: 16165.1 \t재구성 손실: 12734.128 \t잠재 손실: 3430.9722\n",
      "29% 훈련 전체 손실: 15991.481 \t재구성 손실: 12497.197 \t잠재 손실: 3494.284\n",
      "30% 훈련 전체 손실: 15584.335 \t재구성 손실: 12189.748 \t잠재 손실: 3394.5872\n",
      "31% 훈련 전체 손실: 18438.738 \t재구성 손실: 14173.4375 \t잠재 손실: 4265.301\n",
      "32% 훈련 전체 손실: 16448.252 \t재구성 손실: 12874.018 \t잠재 손실: 3574.2346\n",
      "33% 훈련 전체 손실: 16279.277 \t재구성 손실: 12791.433 \t잠재 손실: 3487.8442\n",
      "34% 훈련 전체 손실: 15680.067 \t재구성 손실: 12134.121 \t잠재 손실: 3545.946\n",
      "35% 훈련 전체 손실: 23732.035 \t재구성 손실: 17750.342 \t잠재 손실: 5981.693\n",
      "36% 훈련 전체 손실: 30223.69 \t재구성 손실: 21842.32 \t잠재 손실: 8381.369\n",
      "37% 훈련 전체 손실: 32441.426 \t재구성 손실: 22749.215 \t잠재 손실: 9692.21\n",
      "38 훈련 전체 손실: 27771.436 \t재구성 손실: 23076.596 \t잠재 손실: 4694.8394\n",
      "39% 훈련 전체 손실: 23467.979 \t재구성 손실: 19789.52 \t잠재 손실: 3678.459\n",
      "40 훈련 전체 손실: 23520.56 \t재구성 손실: 19085.912 \t잠재 손실: 4434.6484\n",
      "41 훈련 전체 손실: 23924.799 \t재구성 손실: 19092.48 \t잠재 손실: 4832.318\n",
      "42% 훈련 전체 손실: 21066.936 \t재구성 손실: 17811.248 \t잠재 손실: 3255.6875\n",
      "43% 훈련 전체 손실: 20661.398 \t재구성 손실: 16678.7 \t잠재 손실: 3982.699\n",
      "44% 훈련 전체 손실: 17049.064 \t재구성 손실: 13881.957 \t잠재 손실: 3167.1074\n",
      "45% 훈련 전체 손실: 16914.21 \t재구성 손실: 13578.667 \t잠재 손실: 3335.5435\n",
      "46% 훈련 전체 손실: 17024.947 \t재구성 손실: 13509.637 \t잠재 손실: 3515.3098\n",
      "47 훈련 전체 손실: 16216.64 \t재구성 손실: 12986.713 \t잠재 손실: 3229.927\n",
      "48 훈련 전체 손실: 16048.419 \t재구성 손실: 12847.033 \t잠재 손실: 3201.3855\n",
      "49% 훈련 전체 손실: 16512.717 \t재구성 손실: 12870.273 \t잠재 손실: 3642.4429\n"
     ]
    }
   ],
   "source": [
    "n_epochs = 50\n",
    "batch_size = 150\n",
    "\n",
    "with tf.Session() as sess:\n",
    "    init.run()\n",
    "    for epoch in range(n_epochs):\n",
    "        n_batches = len(X_train) // batch_size\n",
    "        for iteration in range(n_batches):\n",
    "            print(\"\\r{}%\".format(100 * iteration // n_batches), end=\"\")\n",
    "            sys.stdout.flush()\n",
    "            X_batch, y_batch = next(shuffle_batch(X_train, y_train, batch_size))\n",
    "            sess.run(training_op, feed_dict={X: X_batch})\n",
    "        loss_val, reconstruction_loss_val, latent_loss_val = sess.run([loss, reconstruction_loss, latent_loss], feed_dict={X: X_batch})\n",
    "        print(\"\\r{}\".format(epoch), \"훈련 전체 손실:\", loss_val, \"\\t재구성 손실:\", reconstruction_loss_val, \"\\t잠재 손실:\", latent_loss_val)\n",
    "        saver.save(sess, \"./my_model_variational.ckpt\")"
   ]
  },
  {
   "cell_type": "markdown",
   "metadata": {},
   "source": [
    "#### 15.7.1 숫자 이미지 생성\n",
    "- 변이형 오토인코더를 사용하여 숫자 샘플과 비슷한 이미지를 생성\n",
    "    - 먼저 모델을 훈련시킴\n",
    "    - 가우시안 분포에서 랜덤한 코딩을 샘플링\n",
    "    - 이를 디코딩"
   ]
  },
  {
   "cell_type": "code",
   "execution_count": 37,
   "metadata": {},
   "outputs": [
    {
     "name": "stdout",
     "output_type": "stream",
     "text": [
      "09% 훈련 전체 손실: 30543.488 \t재구성 손실: 24243.07 \t잠재 손실: 6300.4185\n",
      "19% 훈련 전체 손실: 28191.766 \t재구성 손실: 22102.416 \t잠재 손실: 6089.349\n",
      "29% 훈련 전체 손실: 29210.596 \t재구성 손실: 24981.203 \t잠재 손실: 4229.3926\n",
      "39% 훈련 전체 손실: 23253.852 \t재구성 손실: 18660.715 \t잠재 손실: 4593.1377\n",
      "49% 훈련 전체 손실: 23773.172 \t재구성 손실: 18957.08 \t잠재 손실: 4816.092\n",
      "5 훈련 전체 손실: 22255.0 \t재구성 손실: 18122.482 \t잠재 손실: 4132.5186\n",
      "69% 훈련 전체 손실: 27529.084 \t재구성 손실: 20146.55 \t잠재 손실: 7382.5337\n",
      "7 훈련 전체 손실: 18846.43 \t재구성 손실: 15715.377 \t잠재 손실: 3131.0532\n",
      "89% 훈련 전체 손실: 17477.883 \t재구성 손실: 14485.09 \t잠재 손실: 2992.792\n",
      "99% 훈련 전체 손실: 16854.326 \t재구성 손실: 13673.53 \t잠재 손실: 3180.7952\n",
      "10% 훈련 전체 손실: 16684.645 \t재구성 손실: 13393.363 \t잠재 손실: 3291.282\n",
      "11% 훈련 전체 손실: 16567.861 \t재구성 손실: 13159.91 \t잠재 손실: 3407.9512\n",
      "12% 훈련 전체 손실: 16368.593 \t재구성 손실: 13032.8125 \t잠재 손실: 3335.7803\n",
      "13% 훈련 전체 손실: 17210.658 \t재구성 손실: 13802.1 \t잠재 손실: 3408.5579\n",
      "14% 훈련 전체 손실: 16617.438 \t재구성 손실: 13305.215 \t잠재 손실: 3312.2224\n",
      "15 훈련 전체 손실: 16444.24 \t재구성 손실: 13156.761 \t잠재 손실: 3287.4788\n",
      "16 훈련 전체 손실: 16459.209 \t재구성 손실: 13043.121 \t잠재 손실: 3416.0881\n",
      "17% 훈련 전체 손실: 16139.877 \t재구성 손실: 12811.35 \t잠재 손실: 3328.527\n",
      "18% 훈련 전체 손실: 16229.122 \t재구성 손실: 12536.639 \t잠재 손실: 3692.4836\n",
      "19 훈련 전체 손실: 16196.576 \t재구성 손실: 12801.146 \t잠재 손실: 3395.43\n",
      "20% 훈련 전체 손실: 20131.707 \t재구성 손실: 14907.241 \t잠재 손실: 5224.4653\n",
      "21 훈련 전체 손실: 24716.766 \t재구성 손실: 18980.223 \t잠재 손실: 5736.5435\n",
      "22% 훈련 전체 손실: 52420.258 \t재구성 손실: 26891.207 \t잠재 손실: 25529.05\n",
      "23% 훈련 전체 손실: 29890.379 \t재구성 손실: 21419.914 \t잠재 손실: 8470.464\n",
      "24% 훈련 전체 손실: 23416.98 \t재구성 손실: 18032.066 \t잠재 손실: 5384.914\n"
     ]
    }
   ],
   "source": [
    "# 모델을 훈련시켜 랜덤한 이미지를 생성\n",
    "n_digits = 60\n",
    "n_epochs = 25 # 책에는 50회이나 성능상 줄임\n",
    "batch_size = 150\n",
    "\n",
    "with tf.Session() as sess:\n",
    "    init.run()\n",
    "    for epoch in range(n_epochs):\n",
    "        n_batches = len(X_train) // batch_size\n",
    "        for iteration in range(n_batches):\n",
    "            print(\"\\r{}%\".format(100 * iteration // n_batches), end=\"\")\n",
    "            sys.stdout.flush()\n",
    "            X_batch, y_batch = next(shuffle_batch(X_train, y_train, batch_size))\n",
    "            sess.run(training_op, feed_dict={X: X_batch})\n",
    "        loss_val, reconstruction_loss_val, latent_loss_val = sess.run([loss, reconstruction_loss, latent_loss], feed_dict={X: X_batch}) # not shown\n",
    "        print(\"\\r{}\".format(epoch), \"훈련 전체 손실:\", loss_val, \"\\t재구성 손실:\", reconstruction_loss_val, \"\\t잠재 손실:\", latent_loss_val)  # not shown\n",
    "        saver.save(sess, \"./my_model_variational.ckpt\")  # not shown\n",
    "    \n",
    "    codings_rnd = np.random.normal(size=[n_digits, n_hidden3])\n",
    "    outputs_val = outputs.eval(feed_dict={hidden3: codings_rnd})"
   ]
  },
  {
   "cell_type": "code",
   "execution_count": 38,
   "metadata": {},
   "outputs": [
    {
     "data": {
      "image/png": "[encoded data removed]",
      "text/plain": [
       "<Figure size 576x3600 with 60 Axes>"
      ]
     },
     "metadata": {
      "needs_background": "light"
     },
     "output_type": "display_data"
    }
   ],
   "source": [
    "plt.figure(figsize=(8,50))\n",
    "for iteration in range(n_digits):\n",
    "    plt.subplot(n_digits, 10, iteration + 1)\n",
    "    plot_image(outputs_val[iteration])"
   ]
  },
  {
   "cell_type": "code",
   "execution_count": 39,
   "metadata": {},
   "outputs": [
    {
     "data": {
      "image/png": "[encoded data removed]",
      "text/plain": [
       "<Figure size 432x288 with 1 Axes>"
      ]
     },
     "metadata": {
      "needs_background": "light"
     },
     "output_type": "display_data"
    }
   ],
   "source": [
    "n_rows = 6\n",
    "n_cols = 10\n",
    "plot_multiple_images(outputs_val.reshape(-1, 28, 28), n_rows, n_cols)\n",
    "plt.show()"
   ]
  },
  {
   "cell_type": "markdown",
   "metadata": {},
   "source": [
    "##### 인코드 및 디코드"
   ]
  },
  {
   "cell_type": "code",
   "execution_count": 40,
   "metadata": {},
   "outputs": [
    {
     "name": "stdout",
     "output_type": "stream",
     "text": [
      "INFO:tensorflow:Restoring parameters from ./my_model_variational.ckpt\n"
     ]
    }
   ],
   "source": [
    "# 인코드\n",
    "n_digits = 3\n",
    "# X_test, y_test = mnist.test.next_batch(batch_size)\n",
    "X_test_batch, y_test_batch = next(shuffle_batch(X_test, y_test, batch_size))\n",
    "codings = hidden3\n",
    "\n",
    "with tf.Session() as sess:\n",
    "    saver.restore(sess, \"./my_model_variational.ckpt\")\n",
    "    codings_val = codings.eval(feed_dict={X: X_test_batch})"
   ]
  },
  {
   "cell_type": "code",
   "execution_count": 41,
   "metadata": {},
   "outputs": [
    {
     "name": "stdout",
     "output_type": "stream",
     "text": [
      "INFO:tensorflow:Restoring parameters from ./my_model_variational.ckpt\n"
     ]
    }
   ],
   "source": [
    "# 디코드\n",
    "with tf.Session() as sess:\n",
    "    saver.restore(sess, \"./my_model_variational.ckpt\")\n",
    "    outputs_val = outputs.eval(feed_dict={codings: codings_val})"
   ]
  },
  {
   "cell_type": "code",
   "execution_count": 42,
   "metadata": {},
   "outputs": [
    {
     "data": {
      "image/png": "[encoded data removed]",
      "text/plain": [
       "<Figure size 576x540 with 6 Axes>"
      ]
     },
     "metadata": {
      "needs_background": "light"
     },
     "output_type": "display_data"
    }
   ],
   "source": [
    "# 이미지 재구성\n",
    "fig = plt.figure(figsize=(8, 2.5 * n_digits))\n",
    "for iteration in range(n_digits):\n",
    "    plt.subplot(n_digits, 2, 1 + 2 * iteration)\n",
    "    plot_image(X_test_batch[iteration])\n",
    "    plt.subplot(n_digits, 2, 2 + 2 * iteration)\n",
    "    plot_image(outputs_val[iteration])"
   ]
  },
  {
   "cell_type": "markdown",
   "metadata": {},
   "source": [
    "##### 숫자 이미지 보간"
   ]
  },
  {
   "cell_type": "code",
   "execution_count": 43,
   "metadata": {},
   "outputs": [
    {
     "name": "stdout",
     "output_type": "stream",
     "text": [
      "INFO:tensorflow:Restoring parameters from ./my_model_variational.ckpt\n"
     ]
    },
    {
     "data": {
      "image/png": "[encoded data removed]",
      "text/plain": [
       "<Figure size 792x324 with 6 Axes>"
      ]
     },
     "metadata": {
      "needs_background": "light"
     },
     "output_type": "display_data"
    },
    {
     "data": {
      "image/png": "[encoded data removed]",
      "text/plain": [
       "<Figure size 792x324 with 6 Axes>"
      ]
     },
     "metadata": {
      "needs_background": "light"
     },
     "output_type": "display_data"
    },
    {
     "data": {
      "image/png": "[encoded data removed]",
      "text/plain": [
       "<Figure size 792x324 with 6 Axes>"
      ]
     },
     "metadata": {
      "needs_background": "light"
     },
     "output_type": "display_data"
    },
    {
     "data": {
      "image/png": "[encoded data removed]",
      "text/plain": [
       "<Figure size 792x324 with 6 Axes>"
      ]
     },
     "metadata": {
      "needs_background": "light"
     },
     "output_type": "display_data"
    }
   ],
   "source": [
    "n_iterations = 3\n",
    "n_digits = 6\n",
    "codings_rnd = np.random.normal(size=[n_digits, n_hidden3])\n",
    "\n",
    "with tf.Session() as sess:\n",
    "    saver.restore(sess, \"./my_model_variational.ckpt\")\n",
    "    target_codings = np.roll(codings_rnd, -1, axis=0)\n",
    "    for iteration in range(n_iterations + 1):\n",
    "        codings_interpolate = codings_rnd + (target_codings - codings_rnd) * iteration / n_iterations\n",
    "        outputs_val = outputs.eval(feed_dict={codings: codings_interpolate})\n",
    "        plt.figure(figsize=(11, 1.5*n_iterations))\n",
    "        for digit_index in range(n_digits):\n",
    "            plt.subplot(1, n_digits, digit_index + 1)\n",
    "            plot_image(outputs_val[digit_index])\n",
    "        plt.show()"
   ]
  },
  {
   "cell_type": "markdown",
   "metadata": {},
   "source": [
    "## 15.8 다른 오토인코더들\n",
    "- 수축 오토인코더(CAE)\n",
    "    - 훈련하는 동안 입력에 대한 코딩의 변화율이 작도록 제약을 받음(두 개의 비슷한 입력은 비슷한 코딩이 되어야 함을 의미)\n",
    "- 적층 합성곱 오토인코더\n",
    "    - 합성곱 층을 통해 처리되는 이미지를 재구성함으로써 시각적 특징을 추출하는 법을 학습하는 오토인코더\n",
    "- 확률적 생성 네트워크(GSN)\n",
    "    - 데이터를 생성하는 기능을 추가한 잡음제거 오토인코더의 일반화된 모델\n",
    "- WTA 오토인코더\n",
    "    - 훈련하는 동안 코딩층에 있는 모든 뉴런의 활성화를 계산한 후 훈련 배치에서 각 뉴런에 대해 최대 k% 활성화만 보존하고 나머지는 0으로 설정\n",
    "- 적대적 생성 네트워크(GAN)\n",
    "    - '판별자'라고 부르는 네트워크가 '생성자'라고 부르는 두 번째 네트워가 만든 가짜 데이터와 실제 데이터를 구분하도록 훈련\n",
    "    - 생성자는 판별자를 속이는 법을 학습하며, 판별자는 생성자의 속임수를 피하는 법을 학습하는 경쟁적 학습 방법"
   ]
  },
  {
   "cell_type": "markdown",
   "metadata": {},
   "source": [
    "## 15.9 연습문제"
   ]
  },
  {
   "cell_type": "markdown",
   "metadata": {},
   "source": [
    "#### 1. 오토인코더를 활용할 수 있는 주요 작업은 무엇인가요?\n",
    "1. 특성 추출\n",
    "2. 비지도 사전 훈련\n",
    "3. 차원 축소\n",
    "4. 생성 모델\n",
    "5. 이상치 탐지(일반적으로 오토인코더는 이상치를 재구성하는 일은 잘하지 못함)"
   ]
  },
  {
   "cell_type": "markdown",
   "metadata": {},
   "source": [
    "#### 2. 레이블되지 않은 훈련 데이터는 많지만, 레이블된 데이터는 수천 개 정도만 가지고 있을 때 분류기를 훈련시키려고 합니다. 오토인코더가 어떻게 도움이 될 수 있을까요? 어떻게 작업하면 될까요?\n",
    "- 레이블되지 않은 훈련 데이터는 많지만, 레이블된 데이터는 수천 개 정도만 가지고 있을 때 분류기를 훈련시키려면 전체 데이터셋(레이블된 것 + 레이블되지 않은 것)에 먼저 심층 오토인코더를 훈련시킨 다음 하위층 절반(즉, 코딩층과 그 하위층들)을 재사용합니다. 그리고 레이블된 데이터를 사용해 분류기를 훈련시킵니다. 레이블된 데이터가 조금밖에 없다면 분류기를 훈련시킬 때 재사용된 층을 동결하는 것이 좋습니다."
   ]
  },
  {
   "cell_type": "markdown",
   "metadata": {},
   "source": [
    "#### 3. 오토인코더가 완벽하게 입력을 재구성했다면, 이것이 반드시 좋은 오토인코더인가요? 오토인코더의 성능을 어떻게 평가할 수 있나요?\n",
    "- 어떤 인코더가 입력을 완벽하게 재구성한다는 사실이 반드시 좋은 오토인코더임을 의미하는 것은 아닙니다. 아마도 입력을 코딩층과 출력으로 복사하는 것을 배운 과대완전 오토인코더일지 모릅니다. 사실 코딩층의 뉴런이 한 개여도 매우 깊은 오토인코더는 모든 훈련 샘플을 다른 코딩으로 매핑하는 것이 가능합니다(예를 들어 첫 번째 샘플은 0.001에, 두 번째 샘플은 0.002에, 세 번째 샘플은 0.003에 매핑되는 식). 그리고 각 코딩에 대한 정확한 훈련 샘플을 재구성하는 것을 외워서 학습할 수 있습니다. 데이터에 있는 어떤 유용한 패턴을 실제 학습하지 않고 입력을 완벽히 재구성합니다. 실전에서 이런 매핑은 거의 일어나지 않지만 완벽하게 재구성되었다는 것이 오토인코더가 유용한 어떤 것을 학습했다고 보장하지 않는다는 사실을 말해줍니다. 하지만 재구성이 매우 나쁘다면 좋지 못한 오토인코더임이 거의 틀림없습니다. 오토인코더의 성능을 재기 위한 한 가지 방법은 재구성 손실을 계산하는 것입니다. 여기에서도 높은 재구성 손실을 오토인코더가 나쁘다는 것을 알려주는 좋은 신호입니다. 하지만 재구성 손실이 낮다고 해서 좋은 오토인코더임을 보장할 수는 없습니다. 사용하는 방식에 맞추어 오토인코더를 평가해야 합니다. 예를 들어 분류기의 비지도 사전훈련을 위해 사용한다면 분류기의 성능도 반드시 평가해야 합니다."
   ]
  },
  {
   "cell_type": "markdown",
   "metadata": {},
   "source": [
    "#### 4. 과소완전과 과대완전 오토인코더가 무엇인가요? 지나치게 과소완전인 오토인코더의 주요한 위험은 무엇인가요? 과대완전 오토인코더의 주요한 위험은 무엇인가요?\n",
    "- 과소완전 오토인코더는 코딩층이 입력층과 출력층보다 작은 경우입니다. 만약 코딩층이 더 크다면 과대완전 오토인코더입니다. 아주 심한 과소완전 오토인코더는 입력을 재구성하는 데 실패할 가능성이 큽니다. 관대 완전 오토인코더의 주된 문제는 유용한 특성을 학습하지 못하고 입력을 출력으로 그냥 복사하는 것입니다."
   ]
  },
  {
   "cell_type": "markdown",
   "metadata": {},
   "source": [
    "#### 5. 적층 오토인코더에서 가중치를 어떻게 묶나요? 이렇게 하는 이유는 무엇인가요?\n",
    "- 인코더 층의 가중치를 그에 상응하는 디코더 층과 묶으려면 인코더 가중치의 전치를 디코더의 가중치로 사용하면 됩니다. 이렇게 하면 모델의 파라미터 개수가 반으로 줄고, 종종 적은 훈련 데이터로도 수렴이 빨라집니다. 또한 훈련 세트에 과대적합될 위험을 감소시킵니다."
   ]
  },
  {
   "cell_type": "markdown",
   "metadata": {},
   "source": [
    "#### 6. 적층 오토인코더의 하위층에서 학습한 특성을 시각화하기 위해 사용하는 일반적인 기법은 무엇인가요? 상위층에 대해서는 어떻게 할 수 있나요?\n",
    "- 스택 오토인코더의 하위층이 학습한 특성을 시각화하기 위한 일반적인 방법은 각 뉴런의 가중치를 입력 이미지의 크기로 바꾸어 그려보는 것입니다. 상위층에서 학습한 특성을 시각화하기 위한 한 가지 방법은 각 뉴런을 가장 활성화시키는 훈련 샘플을 그려보는 것입니다."
   ]
  },
  {
   "cell_type": "markdown",
   "metadata": {},
   "source": [
    "#### 7. 생성 모델이 무엇인가요? 생성 오토인코더의 종류를 나열해보세요.\n",
    "- 생성 모델은 훈련 샘플과 닮은 출력을 랜덤하게 생성할 수 있는 모델입니다. 예를 들어 MNIST 데이터셋에 잘 훈련된 생성 모델은 실제와 같은 임의의 숫자 이미지를 생성할 수 있습니다. 출력 분포는 일반적으로 훈련 데이터와 비슷합니다. 예를 들어 MNIST에는 각 숫자별 이미지가 많기 때문에 이 생성 모델은 각 숫자에 대해 거의 비슷한 개수의 이미지를 출력할 것입니다. 어떤 생성 모델은 특정 종류의 출력만 생성하기 윟 파라미터로 제어할 수 있습니다. 변이형 오토인코더가 생성 오토인코더의 한 예입니다."
   ]
  }
 ],
 "metadata": {
  "kernelspec": {
   "display_name": "Python 3",
   "language": "python",
   "name": "python3"
  },
  "language_info": {
   "codemirror_mode": {
    "name": "ipython",
    "version": 3
   },
   "file_extension": ".py",
   "mimetype": "text/x-python",
   "name": "python",
   "nbconvert_exporter": "python",
   "pygments_lexer": "ipython3",
   "version": "3.7.7"
  }
 },
 "nbformat": 4,
 "nbformat_minor": 4
}
